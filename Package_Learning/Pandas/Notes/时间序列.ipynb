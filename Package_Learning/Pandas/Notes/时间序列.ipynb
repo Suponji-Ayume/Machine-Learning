{
 "cells": [
  {
   "cell_type": "code",
   "execution_count": 1,
   "metadata": {},
   "outputs": [],
   "source": [
    "import pandas as pd\n",
    "import numpy as np\n",
    "import time\n",
    "import datetime"
   ]
  },
  {
   "cell_type": "markdown",
   "metadata": {},
   "source": [
    "# 一、时间序列类型\n"
   ]
  },
  {
   "cell_type": "markdown",
   "metadata": {},
   "source": [
    "## 1 时间戳\n",
    "\n",
    "`pandas.Timestamp(ts_input, freq=None, tz=None, unit=None, year=None, month=None, day=None, hour=None, minute=None, second=None, microsecond=None, nanosecond=None, tzinfo=None, ambiguous='raise', name=None, **kwargs)`\n",
    "\n",
    "- ts_input: 时间戳\n",
    "- freq: 频率\n",
    "- tz: 时区\n",
    "- unit: 单位\n",
    "- year: 年\n",
    "- month: 月\n",
    "- day: 日\n",
    "- hour: 时\n",
    "- minute: 分\n",
    "- second: 秒\n",
    "- microsecond: 微秒\n",
    "- nanosecond: 纳秒\n",
    "- tzinfo: 时区信息\n",
    "- ambiguous: 是否模糊\n",
    "- name: 名称\n",
    "- kwargs: 其他参数\n"
   ]
  },
  {
   "cell_type": "code",
   "execution_count": 235,
   "metadata": {},
   "outputs": [
    {
     "name": "stdout",
     "output_type": "stream",
     "text": [
      "2017-05-31 10:05:00\n",
      "2023-11-22 14:40:42+08:00\n",
      "1970-01-01 00:00:01.700635242\n"
     ]
    }
   ],
   "source": [
    "# 输入日期字符串\n",
    "print(pd.Timestamp(\"31/05/2017 10:05AM\"))\n",
    "\n",
    "# 输入时间戳\n",
    "print(pd.Timestamp(int(time.time()), unit=\"s\", tz=\"Asia/Hong_Kong\"))\n",
    "\n",
    "# 如果输入无法按照给定或者默认的 unit 转换为时间戳，会定位到初试时间，即 1970-01-01 00:00:00\n",
    "print(pd.Timestamp(time.time()))"
   ]
  },
  {
   "cell_type": "markdown",
   "metadata": {},
   "source": [
    "## 2 时间间隔——实现 datetime 加减\n",
    "\n",
    "`pandas.Timedelta(value, unit='ns', **kwargs)`\n",
    "\n",
    "- value: 时间间隔，可以是整数、浮点数、Timedelta 数据\n",
    "- unit: 单位，如果输入是整数，则单位可以是 \"M\", \"W\", \"D\", \"T\", \"S\", \"L\", \"U\", \"N\"...\n",
    "- kwargs: 其他参数\n"
   ]
  },
  {
   "cell_type": "code",
   "execution_count": 248,
   "metadata": {},
   "outputs": [
    {
     "name": "stdout",
     "output_type": "stream",
     "text": [
      "2017-05-31 10:05:00\n",
      "2017-06-01 11:06:01\n"
     ]
    }
   ],
   "source": [
    "ts = pd.Timestamp(\"31/05/2017 10:05AM\")\n",
    "print(ts)\n",
    "\n",
    "# 计算 1 天 1h 1min 1s 后的日期\n",
    "timedelta = pd.Timedelta(days=1, hours=1, minutes=1, seconds=1)\n",
    "ts += timedelta\n",
    "print(ts)"
   ]
  },
  {
   "cell_type": "markdown",
   "metadata": {},
   "source": [
    "## 3 时间转化\n",
    "将字符串转换为时间戳\n",
    "`pandas.to_datetime(arg, errors='raise', dayfirst=False, yearfirst=False, utc=None, box=True, format=None, exact=True, unit=None, infer_datetime_format=False, origin='unix', cache=True)`\n",
    "- arg: 字符串、整数、浮点数、序列、字典、numpy.ndarray、pandas.Series、pandas.DataFrame\n",
    "- errors: 错误处理方式\n",
    "- dayfirst: 是否将第一位解析为天\n",
    "- yearfirst: 是否将第一位解析为年\n",
    "- utc: 是否使用 UTC\n",
    "- box: 是否返回 pandas.Timestamp 对象\n",
    "- format: 格式\n",
    "- exact: 是否精确匹配\n",
    "- unit: 单位\n",
    "- infer_datetime_format: 是否自动推断格式\n",
    "- origin: 原点\n",
    "- cache: 是否缓存\n"
   ]
  },
  {
   "cell_type": "code",
   "execution_count": null,
   "metadata": {},
   "outputs": [],
   "source": []
  }
 ],
 "metadata": {
  "kernelspec": {
   "display_name": "MachineLearning",
   "language": "python",
   "name": "python3"
  },
  "language_info": {
   "codemirror_mode": {
    "name": "ipython",
    "version": 3
   },
   "file_extension": ".py",
   "mimetype": "text/x-python",
   "name": "python",
   "nbconvert_exporter": "python",
   "pygments_lexer": "ipython3",
   "version": "3.10.13"
  },
  "orig_nbformat": 4
 },
 "nbformat": 4,
 "nbformat_minor": 2
}
