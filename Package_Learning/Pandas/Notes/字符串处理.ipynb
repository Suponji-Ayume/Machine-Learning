{
 "cells": [
  {
   "cell_type": "code",
   "execution_count": 2,
   "metadata": {},
   "outputs": [],
   "source": [
    "import pandas as pd\n",
    "import numpy as np"
   ]
  },
  {
   "cell_type": "markdown",
   "metadata": {},
   "source": [
    "# 1 大小写转换\n",
    "\n",
    "- `str.upper()` 全部大写\n",
    "- `str.lower()` 全部小写\n"
   ]
  },
  {
   "cell_type": "markdown",
   "metadata": {},
   "source": [
    "# 2 字符串长度\n",
    "\n",
    "- `str.len()` 返回字符串长度\n"
   ]
  },
  {
   "cell_type": "markdown",
   "metadata": {},
   "source": [
    "# 3 去除字符串首尾空格或其他字符\n",
    "\n",
    "- `str.strip(__char__)` 去除首尾空格，**char**为要去除的字符，默认是空格\n"
   ]
  },
  {
   "cell_type": "markdown",
   "metadata": {},
   "source": [
    "# 4 用指定分隔符分割字符串\n",
    "\n",
    "- `str.split(__char__)` 用**char**分割字符串，返回一个列表\n"
   ]
  },
  {
   "cell_type": "code",
   "execution_count": 11,
   "metadata": {},
   "outputs": [
    {
     "data": {
      "text/plain": [
       "0    a_b_c\n",
       "1    c_d_e\n",
       "2     <NA>\n",
       "3    f_g_h\n",
       "dtype: string"
      ]
     },
     "metadata": {},
     "output_type": "display_data"
    },
    {
     "name": "stdout",
     "output_type": "stream",
     "text": [
      "=========================================\n",
      "['a', 'b', 'c']\n"
     ]
    }
   ],
   "source": [
    "s = pd.Series([\"a_b_c\", \"c_d_e\", np.nan, \"f_g_h\"])\n",
    "display(s)\n",
    "\n",
    "print(\"=========================================\")\n",
    "print(s[0].split(\"_\"))  # type: ignore"
   ]
  },
  {
   "cell_type": "markdown",
   "metadata": {},
   "source": [
    "# 5 用指定分隔符连接字符串\n",
    "\n",
    "- `str.cat(sep=\"\")` 用**char**连接字符串，返回一个字符串\n"
   ]
  },
  {
   "cell_type": "code",
   "execution_count": 12,
   "metadata": {},
   "outputs": [
    {
     "name": "stdout",
     "output_type": "stream",
     "text": [
      "Hello,World,Python,Pandas\n"
     ]
    }
   ],
   "source": [
    "data = pd.DataFrame({\"word\": [\"Hello\", \"World\", \"Python\", \"Pandas\"]})\n",
    "\n",
    "print(data.word.str.cat(sep=\",\"))"
   ]
  },
  {
   "cell_type": "markdown",
   "metadata": {},
   "source": [
    "# 6 包含子串 pattern\n",
    "\n",
    "- `str.contains(pattern)` 返回一个布尔值，表示是否包含子串 pattern\n"
   ]
  },
  {
   "cell_type": "markdown",
   "metadata": {},
   "source": [
    "# 7 替换子串\n",
    "\n",
    "- `str.replace(old, new)` 将字符串中的 old 替换为 new\n"
   ]
  },
  {
   "cell_type": "code",
   "execution_count": 14,
   "metadata": {},
   "outputs": [
    {
     "name": "stdout",
     "output_type": "stream",
     "text": [
      "0     Hello\n",
      "1     WORld\n",
      "2    Python\n",
      "3    Pandas\n",
      "Name: word, dtype: object\n"
     ]
    }
   ],
   "source": [
    "print(data.word.str.replace(\"or\", \"OR\"))"
   ]
  },
  {
   "cell_type": "markdown",
   "metadata": {},
   "source": [
    "# 8 统计子串在每个元素中出现的次数\n",
    "\n",
    "- `str.count(sub)` 返回一个 Series，表示子串 sub 在每个元素中出现的次数\n",
    "\n",
    "从前向后匹配，从不回读，\"aaaa\" 中匹配 \"aa\" 只会匹配两个\n"
   ]
  },
  {
   "cell_type": "code",
   "execution_count": 15,
   "metadata": {},
   "outputs": [
    {
     "name": "stdout",
     "output_type": "stream",
     "text": [
      "0    2\n",
      "1    2\n",
      "2    1\n",
      "3    0\n",
      "Name: word, dtype: int64\n"
     ]
    }
   ],
   "source": [
    "data = pd.DataFrame({\"word\": [\"aabaa\", \"aaaa\", \"baaab\", \"ababa\"]})\n",
    "\n",
    "print(data.word.str.count(\"aa\"))"
   ]
  },
  {
   "cell_type": "markdown",
   "metadata": {},
   "source": [
    "# 9 匹配首尾子串\n",
    "\n",
    "- `str.startswith(prefix)` 返回一个布尔值，表示每个元素的字符串是否以 prefix 开头\n",
    "- `str.endswith(suffix)` 返回一个布尔值，表示每个元素的字符串是否以 suffix 结尾\n"
   ]
  },
  {
   "cell_type": "code",
   "execution_count": 16,
   "metadata": {},
   "outputs": [
    {
     "name": "stdout",
     "output_type": "stream",
     "text": [
      "0     True\n",
      "1     True\n",
      "2    False\n",
      "3    False\n",
      "Name: word, dtype: bool\n",
      "0     True\n",
      "1     True\n",
      "2    False\n",
      "3    False\n",
      "Name: word, dtype: bool\n"
     ]
    }
   ],
   "source": [
    "data = pd.DataFrame({\"word\": [\"aabaa\", \"aaaa\", \"baaab\", \"ababa\"]})\n",
    "\n",
    "print(data.word.str.startswith(\"aa\"))\n",
    "print(data.word.str.endswith(\"aa\"))"
   ]
  },
  {
   "cell_type": "markdown",
   "metadata": {},
   "source": [
    "# 10 以列表的形式返回所有出现的子串\n",
    "- `str.findall(pattern)` 返回一个列表，包含所有满足 pattern 的子串"
   ]
  },
  {
   "cell_type": "code",
   "execution_count": 17,
   "metadata": {},
   "outputs": [
    {
     "name": "stdout",
     "output_type": "stream",
     "text": [
      "0    [aa, aa]\n",
      "1    [aa, aa]\n",
      "2        [aa]\n",
      "3          []\n",
      "Name: word, dtype: object\n"
     ]
    }
   ],
   "source": [
    "data = pd.DataFrame({\"word\": [\"aabaa\", \"aaaa\", \"baaab\", \"ababa\"]})\n",
    "\n",
    "print(data.word.str.findall(\"aa\"))"
   ]
  },
  {
   "cell_type": "markdown",
   "metadata": {},
   "source": [
    "# 11 从左到右找到第一个匹配项的位置\n",
    "- `str.find(sub)` 返回一个整数，表示子串 sub 在每个元素中第一次出现的位置，如果没有匹配项则返回 -1"
   ]
  },
  {
   "cell_type": "code",
   "execution_count": 18,
   "metadata": {},
   "outputs": [
    {
     "name": "stdout",
     "output_type": "stream",
     "text": [
      "0    0\n",
      "1   -1\n",
      "2    2\n",
      "3   -1\n",
      "Name: word, dtype: int64\n"
     ]
    }
   ],
   "source": [
    "data = pd.DataFrame({\"word\": [\"aabaa\", \"aaaa\", \"baaab\", \"ababa\"]})\n",
    "\n",
    "print(data.word.str.find(\"aab\"))"
   ]
  }
 ],
 "metadata": {
  "kernelspec": {
   "display_name": "MachineLearning",
   "language": "python",
   "name": "python3"
  },
  "language_info": {
   "codemirror_mode": {
    "name": "ipython",
    "version": 3
   },
   "file_extension": ".py",
   "mimetype": "text/x-python",
   "name": "python",
   "nbconvert_exporter": "python",
   "pygments_lexer": "ipython3",
   "version": "3.10.13"
  },
  "orig_nbformat": 4
 },
 "nbformat": 4,
 "nbformat_minor": 2
}
