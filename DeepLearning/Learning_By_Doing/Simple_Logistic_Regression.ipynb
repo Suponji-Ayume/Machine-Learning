{
 "cells": [
  {
   "cell_type": "markdown",
   "source": [
    "## 要求：\n",
    "实现一个学习算法的整体结构\n",
    "+ 获取并定义输入参数\n",
    "+ 初始化参数\n",
    "+ 计算损失函数及其梯度\n",
    "+ 循环\n",
    "    + 计算当前损失（正向传播）\n",
    "    + 计算当前梯度（反向传播）\n",
    "    + 更新参数（梯度下降）"
   ],
   "metadata": {
    "collapsed": false
   },
   "id": "632954dfaef3feb0"
  },
  {
   "cell_type": "code",
   "execution_count": 1,
   "id": "initial_id",
   "metadata": {
    "collapsed": true,
    "ExecuteTime": {
     "end_time": "2024-01-12T08:05:02.311929Z",
     "start_time": "2024-01-12T08:05:01.822357Z"
    }
   },
   "outputs": [],
   "source": [
    "import numpy as np\n",
    "import pandas as pd\n",
    "from tqdm import tqdm"
   ]
  },
  {
   "cell_type": "markdown",
   "source": [
    "## 1. 数据预处理"
   ],
   "metadata": {
    "collapsed": false
   },
   "id": "f3b77b492ab679df"
  },
  {
   "cell_type": "code",
   "outputs": [],
   "source": [
    "# 读取数据\n",
    "origin_data = pd.read_csv('../../Datasets/exercise_data/Iris.csv', header=0, nrows=100, index_col=0)\n",
    "species = origin_data[\"Species\"].unique()\n",
    "origin_data[\"Species\"] = origin_data[\"Species\"].map({species[0]: 0, species[1]: 1})\n",
    "\n",
    "# 打乱数据\n",
    "shuffle_data = origin_data.sample(frac=1)\n",
    "\n",
    "# 划分训练集和测试集\n",
    "train_X = shuffle_data.iloc[:80, :-1].values\n",
    "train_Y = shuffle_data.iloc[:80, -1].values.reshape(-1, 1)\n",
    "\n",
    "test_X = shuffle_data.iloc[80:, :-1].values\n",
    "test_Y = shuffle_data.iloc[80:, -1].values.reshape(-1, 1)"
   ],
   "metadata": {
    "collapsed": false,
    "ExecuteTime": {
     "end_time": "2024-01-13T03:53:01.775814Z",
     "start_time": "2024-01-13T03:53:01.762668Z"
    }
   },
   "id": "c552e1c4a7c02595",
   "execution_count": 10
  },
  {
   "cell_type": "markdown",
   "source": [
    "## 2. 实现 sigmoid 函数"
   ],
   "metadata": {
    "collapsed": false
   },
   "id": "772fb030e70bc570"
  },
  {
   "cell_type": "code",
   "outputs": [],
   "source": [
    "def sigmoid(x: np.ndarray) -> np.ndarray:\n",
    "    \"\"\"\n",
    "    Compute the sigmoid of x\n",
    "\n",
    "    Arguments:\n",
    "    x -- A scalar or numpy array of any size\n",
    "\n",
    "    Return:\n",
    "    s -- sigmoid(x)\n",
    "    \"\"\"\n",
    "    s = 1 / (1 + np.exp(-x))\n",
    "    return s"
   ],
   "metadata": {
    "collapsed": false,
    "ExecuteTime": {
     "end_time": "2024-01-12T08:05:15.990247Z",
     "start_time": "2024-01-12T08:05:15.945290Z"
    }
   },
   "id": "65ab3bbed56bed16",
   "execution_count": 3
  },
  {
   "cell_type": "markdown",
   "source": [
    "## 3. 实现 sigmoid 的梯度函数"
   ],
   "metadata": {
    "collapsed": false
   },
   "id": "35a5e0754fe7307"
  },
  {
   "cell_type": "code",
   "outputs": [],
   "source": [
    "def sigmoid_derivative(x: np.ndarray):\n",
    "    \"\"\"\n",
    "    Compute the gradient (also called the slope or derivative) of the sigmoid function with respect to its input x.\n",
    "    You can store the output of the sigmoid function into variables and then use it to calculate the gradient.\n",
    "    \n",
    "    Arguments:\n",
    "    x -- A scalar or numpy array\n",
    "    \n",
    "    Return:\n",
    "    ds -- Your computed gradient.\n",
    "    \"\"\"\n",
    "    s = sigmoid(x)\n",
    "    ds = s * (1 - s)\n",
    "    return ds"
   ],
   "metadata": {
    "collapsed": false,
    "ExecuteTime": {
     "end_time": "2024-01-12T08:05:17.727302Z",
     "start_time": "2024-01-12T08:05:17.712668Z"
    }
   },
   "id": "cc5a1c5884e073a7",
   "execution_count": 4
  },
  {
   "cell_type": "markdown",
   "source": [
    "## 4. 整体逻辑实现"
   ],
   "metadata": {
    "collapsed": false
   },
   "id": "dda86821eceb6ffe"
  },
  {
   "cell_type": "code",
   "outputs": [],
   "source": [
    "def model(train_X, train_Y, iteration_num=2000, learning_rate=0.005, TOL=1e-6, print_cost=False):\n",
    "    \"\"\"\n",
    "    Builds the logistic regression model by calling the function you've implemented previously\n",
    "    \n",
    "    Arguments:\n",
    "    train_X -- training set represented by a numpy array of shape (num_px * num_px * 3, m_train)\n",
    "    train_Y -- training labels represented by a numpy array (vector) of shape (1, m_train)\n",
    "    iteration_num -- hyperparameter representing the number of iterations to optimize the parameters\n",
    "    TOL -- hyperparameter representing the tolerance of the cost function\n",
    "    print_cost -- Set to true to print the cost every 100 iterations\n",
    "    \n",
    "    Returns:\n",
    "    w -- weights, a numpy array of shape (num_px * num_px * 3, 1)\n",
    "    b -- bias, a scalar\n",
    "    \"\"\"\n",
    "    # 获取训练集的维度, m 为样本数, n 为特征数\n",
    "    m, n = train_X.shape\n",
    "\n",
    "    # 初始化参数\n",
    "    w = np.zeros((n, 1))\n",
    "    b = 0\n",
    "\n",
    "    # 梯度下降\n",
    "    for i in tqdm(range(1, iteration_num + 1)):\n",
    "        Z = train_X @ w + b\n",
    "        A = sigmoid(Z)\n",
    "        cost = -1 / m * np.sum(train_Y * np.log(A) + (1 - train_Y) * np.log(1 - A))\n",
    "\n",
    "        # 计算当前梯度\n",
    "        dZ = A - train_Y\n",
    "        dw = 1 / m * train_X.T @ dZ\n",
    "        db = 1 / m * np.sum(dZ)\n",
    "\n",
    "        # 更新参数\n",
    "        w -= learning_rate * dw\n",
    "        b -= learning_rate * db\n",
    "\n",
    "        # 打印损失\n",
    "        if print_cost and i % 1000000 == 0:\n",
    "            print(\"Cost after iteration {}: {}\".format(i, cost))\n",
    "\n",
    "        # 判断是否收敛\n",
    "        if cost < TOL:\n",
    "            break\n",
    "\n",
    "    return w, b"
   ],
   "metadata": {
    "collapsed": false,
    "ExecuteTime": {
     "end_time": "2024-01-12T08:06:19.423092Z",
     "start_time": "2024-01-12T08:06:19.411611Z"
    }
   },
   "id": "e23eb6b7781ca646",
   "execution_count": 7
  },
  {
   "cell_type": "markdown",
   "source": [
    "## 5. 测试"
   ],
   "metadata": {
    "collapsed": false
   },
   "id": "320ca961a6a6b8b0"
  },
  {
   "cell_type": "code",
   "outputs": [],
   "source": [
    "# 训练模型\n",
    "w, b = model(train_X, train_Y, iteration_num=20000000, learning_rate=0.005, TOL=1e-6, print_cost=True)\n",
    "\n",
    "# 计算测试集的预测精度\n",
    "predict_Y = sigmoid(np.dot(test_X, w) + b)\n",
    "predict_Y[predict_Y > 0.5] = 1\n",
    "predict_Y[predict_Y <= 0.5] = 0\n",
    "predict_accuracy = np.mean(predict_Y == test_Y)\n",
    "print(\"train accuracy: {} %\".format(predict_accuracy * 100))\n",
    "\n",
    "# 输出模型参数\n",
    "print(\"w = {}\".format(w))\n",
    "print(\"b = {}\".format(b))"
   ],
   "metadata": {
    "collapsed": false
   },
   "id": "76c4c2d82208507",
   "execution_count": null
  }
 ],
 "metadata": {
  "kernelspec": {
   "display_name": "Python 3",
   "language": "python",
   "name": "python3"
  },
  "language_info": {
   "codemirror_mode": {
    "name": "ipython",
    "version": 2
   },
   "file_extension": ".py",
   "mimetype": "text/x-python",
   "name": "python",
   "nbconvert_exporter": "python",
   "pygments_lexer": "ipython2",
   "version": "2.7.6"
  }
 },
 "nbformat": 4,
 "nbformat_minor": 5
}
