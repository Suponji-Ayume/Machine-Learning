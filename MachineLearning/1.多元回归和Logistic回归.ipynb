{
 "cells": [
  {
   "cell_type": "markdown",
   "metadata": {},
   "source": [
    "# Logistic 回归\n"
   ]
  },
  {
   "cell_type": "code",
   "execution_count": 1,
   "metadata": {},
   "outputs": [],
   "source": [
    "import numpy as np\n",
    "import pandas as pd\n",
    "import matplotlib.pyplot as plt"
   ]
  },
  {
   "cell_type": "markdown",
   "metadata": {},
   "source": [
    "## 1 数据预处理\n"
   ]
  },
  {
   "cell_type": "code",
   "execution_count": 8,
   "metadata": {},
   "outputs": [
    {
     "data": {
      "text/plain": [
       "Species\n",
       "Iris-setosa        50\n",
       "Iris-versicolor    50\n",
       "Iris-virginica     50\n",
       "Name: count, dtype: int64"
      ]
     },
     "metadata": {},
     "output_type": "display_data"
    },
    {
     "data": {
      "text/html": [
       "<div>\n",
       "<style scoped>\n",
       "    .dataframe tbody tr th:only-of-type {\n",
       "        vertical-align: middle;\n",
       "    }\n",
       "\n",
       "    .dataframe tbody tr th {\n",
       "        vertical-align: top;\n",
       "    }\n",
       "\n",
       "    .dataframe thead th {\n",
       "        text-align: right;\n",
       "    }\n",
       "</style>\n",
       "<table border=\"1\" class=\"dataframe\">\n",
       "  <thead>\n",
       "    <tr style=\"text-align: right;\">\n",
       "      <th></th>\n",
       "      <th>Id</th>\n",
       "      <th>SepalLengthCm</th>\n",
       "      <th>SepalWidthCm</th>\n",
       "      <th>PetalLengthCm</th>\n",
       "      <th>PetalWidthCm</th>\n",
       "      <th>Species</th>\n",
       "    </tr>\n",
       "  </thead>\n",
       "  <tbody>\n",
       "    <tr>\n",
       "      <th>0</th>\n",
       "      <td>1</td>\n",
       "      <td>5.1</td>\n",
       "      <td>3.5</td>\n",
       "      <td>1.4</td>\n",
       "      <td>0.2</td>\n",
       "      <td>0</td>\n",
       "    </tr>\n",
       "    <tr>\n",
       "      <th>1</th>\n",
       "      <td>2</td>\n",
       "      <td>4.9</td>\n",
       "      <td>3.0</td>\n",
       "      <td>1.4</td>\n",
       "      <td>0.2</td>\n",
       "      <td>0</td>\n",
       "    </tr>\n",
       "    <tr>\n",
       "      <th>2</th>\n",
       "      <td>3</td>\n",
       "      <td>4.7</td>\n",
       "      <td>3.2</td>\n",
       "      <td>1.3</td>\n",
       "      <td>0.2</td>\n",
       "      <td>0</td>\n",
       "    </tr>\n",
       "    <tr>\n",
       "      <th>3</th>\n",
       "      <td>4</td>\n",
       "      <td>4.6</td>\n",
       "      <td>3.1</td>\n",
       "      <td>1.5</td>\n",
       "      <td>0.2</td>\n",
       "      <td>0</td>\n",
       "    </tr>\n",
       "    <tr>\n",
       "      <th>4</th>\n",
       "      <td>5</td>\n",
       "      <td>5.0</td>\n",
       "      <td>3.6</td>\n",
       "      <td>1.4</td>\n",
       "      <td>0.2</td>\n",
       "      <td>0</td>\n",
       "    </tr>\n",
       "  </tbody>\n",
       "</table>\n",
       "</div>"
      ],
      "text/plain": [
       "   Id  SepalLengthCm  SepalWidthCm  PetalLengthCm  PetalWidthCm  Species\n",
       "0   1            5.1           3.5            1.4           0.2        0\n",
       "1   2            4.9           3.0            1.4           0.2        0\n",
       "2   3            4.7           3.2            1.3           0.2        0\n",
       "3   4            4.6           3.1            1.5           0.2        0\n",
       "4   5            5.0           3.6            1.4           0.2        0"
      ]
     },
     "metadata": {},
     "output_type": "display_data"
    }
   ],
   "source": [
    "data = pd.read_csv(\"/Users/zhaohaonan/北大资料/Coding/MachineLearning/Datasets/Iris.csv\")\n",
    "\n",
    "# 查看分类信息\n",
    "display(data[\"Species\"].value_counts())\n",
    "\n",
    "\n",
    "# 将字符串转换为数字\n",
    "data_logistic = data.copy()\n",
    "data_logistic[\"Species\"] = data_logistic[\"Species\"].map(\n",
    "    {\"Iris-setosa\": 0, \"Iris-versicolor\": 1, \"Iris-virginica\": 2}\n",
    ")\n",
    "\n",
    "display(data_logistic.head())"
   ]
  },
  {
   "cell_type": "markdown",
   "metadata": {},
   "source": [
    "## 2 数据集划分\n"
   ]
  },
  {
   "cell_type": "code",
   "execution_count": 93,
   "metadata": {},
   "outputs": [
    {
     "data": {
      "text/plain": [
       "(80, 4)"
      ]
     },
     "metadata": {},
     "output_type": "display_data"
    },
    {
     "data": {
      "text/plain": [
       "(80, 1)"
      ]
     },
     "metadata": {},
     "output_type": "display_data"
    },
    {
     "data": {
      "text/plain": [
       "(20, 4)"
      ]
     },
     "metadata": {},
     "output_type": "display_data"
    },
    {
     "data": {
      "text/plain": [
       "(20, 1)"
      ]
     },
     "metadata": {},
     "output_type": "display_data"
    }
   ],
   "source": [
    "# 数据集打乱\n",
    "shuffled_data = data_logistic.iloc[:100, :].sample(\n",
    "    frac=1.0, random_state=1\n",
    ")  # frac=1.0表示全部打乱\n",
    "\n",
    "# 划分训练集和测试集\n",
    "train_data = shuffled_data.iloc[:80, :]\n",
    "test_data = shuffled_data.iloc[80:, :]\n",
    "\n",
    "# 将训练集和测试集分为特征和标签\n",
    "train_X = np.array(train_data.iloc[:, 1:5]).reshape(-1, 4)\n",
    "train_Y = np.array(train_data.iloc[:, 5]).reshape(-1, 1)\n",
    "\n",
    "test_X = np.array(test_data.iloc[:, 1:5]).reshape(-1, 4)\n",
    "test_Y = np.array(test_data.iloc[:, 5]).reshape(-1, 1)\n",
    "\n",
    "display(train_X.shape, train_Y.shape, test_X.shape, test_Y.shape)"
   ]
  },
  {
   "cell_type": "markdown",
   "metadata": {},
   "source": [
    "## 3 梯度下降训练模型\n"
   ]
  },
  {
   "cell_type": "code",
   "execution_count": 121,
   "metadata": {},
   "outputs": [
    {
     "name": "stderr",
     "output_type": "stream",
     "text": [
      "/var/folders/z7/0bpm4x0d1l12by_8_w62qyd80000gn/T/ipykernel_4690/1118144350.py:17: RuntimeWarning: divide by zero encountered in log\n",
      "  return (-y * np.log(h) - (1 - y) * np.log(1 - h)).mean()\n",
      "/var/folders/z7/0bpm4x0d1l12by_8_w62qyd80000gn/T/ipykernel_4690/1118144350.py:17: RuntimeWarning: invalid value encountered in multiply\n",
      "  return (-y * np.log(h) - (1 - y) * np.log(1 - h)).mean()\n"
     ]
    },
    {
     "name": "stdout",
     "output_type": "stream",
     "text": [
      "Epoch: 100000 \t Loss:   0.000005 \t Accuracy: 1.000000\n",
      "Epoch: 200000 \t Loss:   0.000003 \t Accuracy: 1.000000\n",
      "Epoch: 300000 \t Loss:   0.000002 \t Accuracy: 1.000000\n",
      "Epoch: 400000 \t Loss:   0.000002 \t Accuracy: 1.000000\n",
      "Epoch: 500000 \t Loss:   0.000001 \t Accuracy: 1.000000\n",
      "Epoch: 600000 \t Loss:   0.000001 \t Accuracy: 1.000000\n",
      "Epoch: 700000 \t Loss:   0.000001 \t Accuracy: 1.000000\n",
      "Epoch: 800000 \t Loss:   0.000001 \t Accuracy: 1.000000\n",
      "Epoch: 900000 \t Loss:   0.000001 \t Accuracy: 1.000000\n",
      "Epoch: 1000000 \t Loss:   0.000001 \t Accuracy: 1.000000\n",
      "[-2.57745237 -6.99155966 11.77197417  5.41975148]\n",
      "Predict Accuracy: 1.000000\n"
     ]
    }
   ],
   "source": [
    "# 定义训练参数\n",
    "from tkinter import Y\n",
    "\n",
    "\n",
    "ALPHA = 2.5  # 学习率\n",
    "MAX_ITER = 1000000  # 最大迭代次数\n",
    "ESP = 1e-7  # 梯度下降收敛阈值\n",
    "\n",
    "\n",
    "# 定义sigmoid函数\n",
    "def sigmoid(x):\n",
    "    return 1 / (1 + np.exp(-x))\n",
    "\n",
    "\n",
    "# 定义损失函数\n",
    "def loss(h, y):\n",
    "    return (-y * np.log(h) - (1 - y) * np.log(1 - h)).mean()\n",
    "\n",
    "\n",
    "# 定义梯度下降函数\n",
    "def gradient_descent(X, h, y):\n",
    "    return np.dot(X.T, (h - y)) / y.shape[0]\n",
    "\n",
    "\n",
    "# 定义预测函数\n",
    "def predict(X, theta):\n",
    "    h = sigmoid(np.dot(X, theta))\n",
    "    return h.round()\n",
    "\n",
    "\n",
    "# 定义状态输出函数\n",
    "def echo(X, h, y, theta, step):\n",
    "    print(\n",
    "        \"Epoch: {} \\t Loss: {:10f} \\t Accuracy: {:4f}\".format(\n",
    "            step, loss(h, y), (predict(X, theta) == y).mean()\n",
    "        )\n",
    "    )\n",
    "    return\n",
    "\n",
    "\n",
    "# 定义训练函数\n",
    "def train(X, y, alpha=ALPHA, max_iter=MAX_ITER):\n",
    "    theta = np.zeros((X.shape[1], 1))\n",
    "    step = 0\n",
    "    while step < max_iter:\n",
    "        h = sigmoid(np.dot(X, theta))\n",
    "        gradient = gradient_descent(X, h, y)\n",
    "\n",
    "        if loss(h, y) < ESP:\n",
    "            print(\"梯度下降已经收敛\")\n",
    "            break\n",
    "\n",
    "        theta -= alpha * gradient\n",
    "\n",
    "        step += 1\n",
    "\n",
    "        if step % 100000 == 0:\n",
    "            echo(X, h, y, theta, step)\n",
    "\n",
    "    return theta\n",
    "\n",
    "\n",
    "# 训练模型\n",
    "theta = train(train_X, train_Y)\n",
    "print(theta.ravel())\n",
    "\n",
    "# 预测\n",
    "predict_Y = predict(test_X, theta)\n",
    "\n",
    "# 计算准确率\n",
    "print(\"Predict Accuracy: {:7f}\".format((predict_Y == test_Y).mean()))"
   ]
  },
  {
   "cell_type": "code",
   "execution_count": 92,
   "metadata": {},
   "outputs": [
    {
     "name": "stdout",
     "output_type": "stream",
     "text": [
      "Sklearn Model Coef:  [[-2.4759644  -7.25215035 11.72101698  5.548456  ]]\n",
      "Sklearn Model Intercept:  [0.]\n",
      "Sklearn Model Classes:  [0 1]\n",
      "Sklearn Model Predict:  [0 0 0 0 0 1 0 0 1 1 0 0 1 1 0 1 0 1 0 0]\n",
      "Sklearn Model Loss:  6.397524371360649e-07\n",
      "Sklearn Predict Accuracy: 1.000000\n"
     ]
    }
   ],
   "source": [
    "# 使用sklearn库对比手写模型得到的结果\n",
    "from sklearn.linear_model import LogisticRegression\n",
    "\n",
    "sklearn_model = LogisticRegression(penalty=None, fit_intercept=False)\n",
    "sklearn_model.fit(train_X[:, 1:6], train_Y.ravel())\n",
    "sklearn_predict_Y = sklearn_model.predict(test_X[:, 1:6])\n",
    "\n",
    "# 打印 sklearn 模型的参数\n",
    "print(\"Sklearn Model Coef: \", sklearn_model.coef_)\n",
    "print(\"Sklearn Model Intercept: \", sklearn_model.intercept_)\n",
    "print(\"Sklearn Model Classes: \", sklearn_model.classes_)\n",
    "print(\"Sklearn Model Predict: \", sklearn_predict_Y)\n",
    "\n",
    "# 计算损失函数\n",
    "sklearn_loss = loss(\n",
    "    sigmoid(np.dot(train_X[:, 1:6], sklearn_model.coef_.T) + sklearn_model.intercept_),\n",
    "    train_Y,\n",
    ")\n",
    "print(\"Sklearn Model Loss: \", sklearn_loss)\n",
    "\n",
    "# 计算准确率\n",
    "print(\n",
    "    \"Sklearn Predict Accuracy: {:7f}\".format(\n",
    "        (sklearn_predict_Y == test_Y.ravel()).mean()\n",
    "    )\n",
    ")"
   ]
  }
 ],
 "metadata": {
  "kernelspec": {
   "display_name": "MachineLearning",
   "language": "python",
   "name": "python3"
  },
  "language_info": {
   "codemirror_mode": {
    "name": "ipython",
    "version": 3
   },
   "file_extension": ".py",
   "mimetype": "text/x-python",
   "name": "python",
   "nbconvert_exporter": "python",
   "pygments_lexer": "ipython3",
   "version": "3.10.13"
  },
  "orig_nbformat": 4
 },
 "nbformat": 4,
 "nbformat_minor": 2
}
