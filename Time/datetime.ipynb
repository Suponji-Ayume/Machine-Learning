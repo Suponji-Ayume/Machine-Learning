{
 "cells": [
  {
   "cell_type": "code",
   "execution_count": 29,
   "metadata": {},
   "outputs": [],
   "source": [
    "import time\n",
    "from datetime import date\n",
    "from datetime import datetime\n",
    "from datetime import timedelta"
   ]
  },
  {
   "cell_type": "markdown",
   "metadata": {},
   "source": [
    "# 1 date 类\n",
    "`datetime.date(year, month, day)`"
   ]
  },
  {
   "cell_type": "markdown",
   "metadata": {},
   "source": [
    "## 1.1 返回一个当前本地日期的对象\n",
    "`datetime.date.today()`"
   ]
  },
  {
   "cell_type": "code",
   "execution_count": 5,
   "metadata": {},
   "outputs": [
    {
     "name": "stdout",
     "output_type": "stream",
     "text": [
      "2023-11-22\n"
     ]
    }
   ],
   "source": [
    "print(date.today())"
   ]
  },
  {
   "cell_type": "markdown",
   "metadata": {},
   "source": [
    "## 1.2 给定时间戳，返回一个日期对象\n",
    "`datetime.date.fromtimestamp(timestamp)`"
   ]
  },
  {
   "cell_type": "code",
   "execution_count": 7,
   "metadata": {},
   "outputs": [
    {
     "name": "stdout",
     "output_type": "stream",
     "text": [
      "2023-11-22\n"
     ]
    }
   ],
   "source": [
    "ts = time.time()\n",
    "print(date.fromtimestamp(ts))"
   ]
  },
  {
   "cell_type": "markdown",
   "metadata": {},
   "source": [
    "## 1.3 date 对象的属性和方法"
   ]
  },
  {
   "cell_type": "code",
   "execution_count": 8,
   "metadata": {},
   "outputs": [],
   "source": [
    "d1 = date(2019, 12, 31)"
   ]
  },
  {
   "cell_type": "markdown",
   "metadata": {},
   "source": [
    "### 1.3.1 年月日\n",
    "- `date.year`\n",
    "- `date.month`\n",
    "- `date.day`"
   ]
  },
  {
   "cell_type": "code",
   "execution_count": 10,
   "metadata": {},
   "outputs": [
    {
     "name": "stdout",
     "output_type": "stream",
     "text": [
      "2019\n"
     ]
    }
   ],
   "source": [
    "print(d1.year)"
   ]
  },
  {
   "cell_type": "markdown",
   "metadata": {},
   "source": [
    "### 1.3.2 修改日期\n",
    "- `date.replace(year, month, day)`\n"
   ]
  },
  {
   "cell_type": "code",
   "execution_count": 14,
   "metadata": {},
   "outputs": [
    {
     "name": "stdout",
     "output_type": "stream",
     "text": [
      "2020-01-01\n"
     ]
    }
   ],
   "source": [
    "d2 = d1.replace(year=d1.year + 1, month=1, day=1)\n",
    "print(d2)"
   ]
  },
  {
   "cell_type": "markdown",
   "metadata": {},
   "source": [
    "### 1.3.3 返回日期对应的 time.struct_time 对象\n",
    "- `date.timetuple()` "
   ]
  },
  {
   "cell_type": "code",
   "execution_count": 16,
   "metadata": {},
   "outputs": [
    {
     "name": "stdout",
     "output_type": "stream",
     "text": [
      "time.struct_time(tm_year=2019, tm_mon=12, tm_mday=31, tm_hour=0, tm_min=0, tm_sec=0, tm_wday=1, tm_yday=365, tm_isdst=-1)\n"
     ]
    }
   ],
   "source": [
    "print(d1.timetuple())"
   ]
  },
  {
   "cell_type": "markdown",
   "metadata": {},
   "source": [
    "### 1.3.4 返回日期对应星期几\n",
    "- `date.weekday()` # 0-6, 0 is Monday\n",
    "- `date.isoweekday()` # 1-7, 1 is Monday"
   ]
  },
  {
   "cell_type": "code",
   "execution_count": 18,
   "metadata": {},
   "outputs": [
    {
     "name": "stdout",
     "output_type": "stream",
     "text": [
      "1\n",
      "2\n"
     ]
    }
   ],
   "source": [
    "print(d1.weekday())\n",
    "print(d1.isoweekday())"
   ]
  },
  {
   "cell_type": "markdown",
   "metadata": {},
   "source": [
    "### 1.3.5 返回格式化的日期字符串\n",
    "- `date.isoformat()` # YYYY-MM-DD"
   ]
  },
  {
   "cell_type": "code",
   "execution_count": 19,
   "metadata": {},
   "outputs": [
    {
     "name": "stdout",
     "output_type": "stream",
     "text": [
      "2019-12-31\n"
     ]
    }
   ],
   "source": [
    "print(d1.isoformat())"
   ]
  },
  {
   "cell_type": "markdown",
   "metadata": {},
   "source": [
    "### 1.3.6 返回自定义格式化的日期字符串\n",
    "- `date.strftime(format)` # format: %Y-%m-%d %H:%M:%S\n",
    "\n",
    "format 的格式：\n",
    "- %Y: year\n",
    "\n",
    "- %m: month\n",
    "\n",
    "- %d: day\n",
    "\n",
    "- %H: hour\n",
    "\n",
    "- %M: minute\n",
    "\n",
    "- %S: second\n",
    "\n",
    "- %w: weekday\n",
    "\n",
    "- %j: day of the year\n",
    "\n",
    "- %U: week of the year (Sunday is the first day of the week)\n",
    "\n",
    "- %W: week of the year (Monday is the first day of the week)\n",
    "\n",
    "- %A: weekday name\n",
    "\n",
    "- %B: month name"
   ]
  },
  {
   "cell_type": "code",
   "execution_count": 20,
   "metadata": {},
   "outputs": [
    {
     "name": "stdout",
     "output_type": "stream",
     "text": [
      "Tuesday 31 December 2019\n"
     ]
    }
   ],
   "source": [
    "print(d1.strftime('%A %d %B %Y'))"
   ]
  },
  {
   "cell_type": "markdown",
   "metadata": {},
   "source": [
    "# 2 datetime 类"
   ]
  },
  {
   "cell_type": "markdown",
   "metadata": {},
   "source": [
    "## 2.1 返回一个当前本地日期时间的对象\n",
    "`datetime.datetime.now()`\n",
    "\n",
    "`datetime.datetime.today()` "
   ]
  },
  {
   "cell_type": "code",
   "execution_count": 23,
   "metadata": {},
   "outputs": [
    {
     "name": "stdout",
     "output_type": "stream",
     "text": [
      "2023-11-22 14:11:44.978960\n",
      "2023-11-22 14:11:44.979046\n"
     ]
    }
   ],
   "source": [
    "print(datetime.now())\n",
    "print(datetime.today())"
   ]
  },
  {
   "cell_type": "markdown",
   "metadata": {},
   "source": [
    "## 2.2 给定时间戳，返回一个日期时间对象\n",
    "`datetime.datetime.fromtimestamp(timestamp)`"
   ]
  },
  {
   "cell_type": "code",
   "execution_count": 24,
   "metadata": {},
   "outputs": [
    {
     "name": "stdout",
     "output_type": "stream",
     "text": [
      "2023-11-22 14:13:31.882184\n"
     ]
    }
   ],
   "source": [
    "ts = time.time()\n",
    "print(datetime.fromtimestamp(ts))"
   ]
  },
  {
   "cell_type": "markdown",
   "metadata": {},
   "source": [
    "## 2.3 给定字符串，转换成一个日期时间对象\n",
    "`datetime.datetime.strptime(date_string, format)`\n",
    "- date_string: 日期字符串\n",
    "- format: 日期字符串的格式"
   ]
  },
  {
   "cell_type": "code",
   "execution_count": 28,
   "metadata": {},
   "outputs": [
    {
     "name": "stdout",
     "output_type": "stream",
     "text": [
      "2023-12-31 23:59:00\n"
     ]
    }
   ],
   "source": [
    "time_string = '31/12/2023 23:59'\n",
    "dt = datetime.strptime(time_string, '%d/%m/%Y %H:%M')\n",
    "print(dt)"
   ]
  },
  {
   "cell_type": "markdown",
   "metadata": {},
   "source": [
    "## 2.4 输出格式化字符串\n",
    "`datetime.datetime.strftime(format)`"
   ]
  },
  {
   "cell_type": "code",
   "execution_count": 25,
   "metadata": {},
   "outputs": [
    {
     "name": "stdout",
     "output_type": "stream",
     "text": [
      "Wed 22 Nov 2023 14:15:15\n"
     ]
    }
   ],
   "source": [
    "now = datetime.now()\n",
    "print(now.strftime('%a %d %b %Y %H:%M:%S'))"
   ]
  },
  {
   "cell_type": "markdown",
   "metadata": {},
   "source": [
    "# 3 timedelta 类"
   ]
  },
  {
   "cell_type": "code",
   "execution_count": 33,
   "metadata": {},
   "outputs": [
    {
     "name": "stdout",
     "output_type": "stream",
     "text": [
      "今天是: 2023-11-22\n",
      "昨天是: 2023-11-21\n"
     ]
    }
   ],
   "source": [
    "dt = datetime.now()\n",
    "print(\"今天是:\",dt.strftime('%Y-%m-%d'))\n",
    "\n",
    "# 日期减一天\n",
    "dt2 = dt - timedelta(days=1)\n",
    "print(\"昨天是:\",dt2.strftime('%Y-%m-%d'))"
   ]
  }
 ],
 "metadata": {
  "kernelspec": {
   "display_name": "MachineLearning",
   "language": "python",
   "name": "python3"
  },
  "language_info": {
   "codemirror_mode": {
    "name": "ipython",
    "version": 3
   },
   "file_extension": ".py",
   "mimetype": "text/x-python",
   "name": "python",
   "nbconvert_exporter": "python",
   "pygments_lexer": "ipython3",
   "version": "3.10.13"
  },
  "orig_nbformat": 4
 },
 "nbformat": 4,
 "nbformat_minor": 2
}
