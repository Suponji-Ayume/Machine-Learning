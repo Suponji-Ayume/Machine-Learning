{
 "cells": [
  {
   "cell_type": "code",
   "execution_count": 26,
   "metadata": {},
   "outputs": [],
   "source": [
    "# 导入需要的包\n",
    "import numpy as np\n",
    "import pandas as pd\n",
    "import matplotlib.pyplot as plt\n",
    "\n",
    "# 设置列宽度，例如将列宽度设置为50\n",
    "pd.set_option(\"display.max_colwidth\", 50)"
   ]
  },
  {
   "cell_type": "code",
   "execution_count": 27,
   "metadata": {},
   "outputs": [
    {
     "name": "stdout",
     "output_type": "stream",
     "text": [
      "   order_id  quantity                     item_name choice_description  \\\n",
      "0         1         1  Chips and Fresh Tomato Salsa                NaN   \n",
      "\n",
      "  item_price  \n",
      "0     $2.39   \n"
     ]
    }
   ],
   "source": [
    "# 1 导入数据\n",
    "data = pd.read_csv(\n",
    "    \"/Users/zhaohaonan/北大资料/Coding/MachineLearning/Datasets/exercise_data/chipotle.tsv\",\n",
    "    sep=\"\\t\",\n",
    ")\n",
    "\n",
    "print(data.head(1))"
   ]
  }
 ],
 "metadata": {
  "kernelspec": {
   "display_name": "MachineLearning",
   "language": "python",
   "name": "python3"
  },
  "language_info": {
   "codemirror_mode": {
    "name": "ipython",
    "version": 3
   },
   "file_extension": ".py",
   "mimetype": "text/x-python",
   "name": "python",
   "nbconvert_exporter": "python",
   "pygments_lexer": "ipython3",
   "version": "3.10.13"
  },
  "orig_nbformat": 4
 },
 "nbformat": 4,
 "nbformat_minor": 2
}
