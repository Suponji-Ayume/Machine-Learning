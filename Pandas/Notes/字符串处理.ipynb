{
 "cells": [
  {
   "cell_type": "code",
   "execution_count": 2,
   "metadata": {},
   "outputs": [],
   "source": [
    "import pandas as pd\n",
    "import numpy as np"
   ]
  },
  {
   "cell_type": "markdown",
   "metadata": {},
   "source": [
    "# 1 大小写转换\n",
    "\n",
    "- `str.upper()` 全部大写\n",
    "- `str.lower()` 全部小写\n"
   ]
  },
  {
   "cell_type": "markdown",
   "metadata": {},
   "source": [
    "# 2 字符串长度\n",
    "\n",
    "- `str.len()` 返回字符串长度\n"
   ]
  },
  {
   "cell_type": "markdown",
   "metadata": {},
   "source": [
    "# 3 去除字符串首尾空格或其他字符\n",
    "\n",
    "- `str.strip(__char__)` 去除首尾空格，**char**为要去除的字符，默认是空格\n"
   ]
  },
  {
   "cell_type": "markdown",
   "metadata": {},
   "source": [
    "# 4 用指定分隔符分割字符串\n",
    "\n",
    "- `str.split(__char__)` 用**char**分割字符串，返回一个列表\n"
   ]
  },
  {
   "cell_type": "code",
   "execution_count": 11,
   "metadata": {},
   "outputs": [
    {
     "data": {
      "text/plain": [
       "0    a_b_c\n",
       "1    c_d_e\n",
       "2     <NA>\n",
       "3    f_g_h\n",
       "dtype: string"
      ]
     },
     "metadata": {},
     "output_type": "display_data"
    },
    {
     "name": "stdout",
     "output_type": "stream",
     "text": [
      "=========================================\n",
      "['a', 'b', 'c']\n"
     ]
    }
   ],
   "source": [
    "s = pd.Series([\"a_b_c\", \"c_d_e\", np.nan, \"f_g_h\"])\n",
    "display(s)\n",
    "\n",
    "print(\"=========================================\")\n",
    "print(s[0].split(\"_\"))  # type: ignore"
   ]
  },
  {
   "cell_type": "markdown",
   "metadata": {},
   "source": [
    "# 5 用指定分隔符连接字符串\n",
    "\n",
    "- `str.cat(sep=\"\")` 用**char**连接字符串，返回一个字符串\n"
   ]
  },
  {
   "cell_type": "code",
   "execution_count": 12,
   "metadata": {},
   "outputs": [
    {
     "name": "stdout",
     "output_type": "stream",
     "text": [
      "Hello,World,Python,Pandas\n"
     ]
    }
   ],
   "source": [
    "data = pd.DataFrame({\"word\": [\"Hello\", \"World\", \"Python\", \"Pandas\"]})\n",
    "\n",
    "print(data.word.str.cat(sep=\",\"))"
   ]
  },
  {
   "cell_type": "markdown",
   "metadata": {},
   "source": [
    "# 6 包含子串 pattern\n",
    "- `str.contains(pattern)` 返回一个布尔值，表示是否包含子串pattern"
   ]
  },
  {
   "cell_type": "markdown",
   "metadata": {},
   "source": [
    "# 7 替换子串\n",
    "- `str.replace(old, new)` 将字符串中的old替换为new"
   ]
  }
 ],
 "metadata": {
  "kernelspec": {
   "display_name": "MachineLearning",
   "language": "python",
   "name": "python3"
  },
  "language_info": {
   "codemirror_mode": {
    "name": "ipython",
    "version": 3
   },
   "file_extension": ".py",
   "mimetype": "text/x-python",
   "name": "python",
   "nbconvert_exporter": "python",
   "pygments_lexer": "ipython3",
   "version": "3.10.13"
  },
  "orig_nbformat": 4
 },
 "nbformat": 4,
 "nbformat_minor": 2
}
