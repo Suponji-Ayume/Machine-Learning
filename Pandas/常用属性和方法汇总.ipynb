{
 "cells": [
  {
   "cell_type": "code",
   "execution_count": 40,
   "metadata": {},
   "outputs": [],
   "source": [
    "import numpy as np\n",
    "import pandas as pd\n",
    "import matplotlib.pyplot as plt"
   ]
  },
  {
   "cell_type": "code",
   "execution_count": 41,
   "metadata": {},
   "outputs": [
    {
     "name": "stdout",
     "output_type": "stream",
     "text": [
      "    Age  Gender  Salary\n",
      "A  20.0    Male    4000\n",
      "B  20.0  Female    2000\n",
      "C  30.0    Male    3000\n",
      "D   NaN    Male    1000\n"
     ]
    }
   ],
   "source": [
    "age = pd.Series([20, 20, 30], index=[\"A\", \"B\", \"C\"], dtype=np.int64)\n",
    "salary = pd.Series([4000, 2000, 3000, 1000], index=[\"A\", \"B\", \"C\", \"D\"])\n",
    "gender = pd.Series([\"Male\", \"Female\", \"Male\", \"Male\"], index=[\"A\", \"B\", \"C\", \"D\"])\n",
    "data = {\"Age\": age, \"Gender\": gender, \"Salary\": salary}\n",
    "df = pd.DataFrame(data)\n",
    "print(df)"
   ]
  },
  {
   "cell_type": "markdown",
   "metadata": {},
   "source": [
    "# 1 属性\n"
   ]
  },
  {
   "cell_type": "markdown",
   "metadata": {},
   "source": [
    "## 1.1 转置\n",
    "\n",
    "`df.T`\n"
   ]
  },
  {
   "cell_type": "code",
   "execution_count": 42,
   "metadata": {},
   "outputs": [
    {
     "name": "stdout",
     "output_type": "stream",
     "text": [
      "    Age  Gender  Salary\n",
      "A  20.0    Male    4000\n",
      "B  20.0  Female    2000\n",
      "C  30.0    Male    3000\n",
      "D   NaN    Male    1000\n",
      "===================================\n",
      "           A       B     C     D\n",
      "Age     20.0    20.0  30.0   NaN\n",
      "Gender  Male  Female  Male  Male\n",
      "Salary  4000    2000  3000  1000\n"
     ]
    }
   ],
   "source": [
    "print(df)\n",
    "print(\"=\" * 35)\n",
    "# 转置\n",
    "print(df.T)"
   ]
  },
  {
   "cell_type": "markdown",
   "metadata": {},
   "source": [
    "## 1.2 返回行标签\n",
    "\n",
    "`df.index`\n"
   ]
  },
  {
   "cell_type": "code",
   "execution_count": 43,
   "metadata": {},
   "outputs": [
    {
     "name": "stdout",
     "output_type": "stream",
     "text": [
      "    Age  Gender  Salary\n",
      "A  20.0    Male    4000\n",
      "B  20.0  Female    2000\n",
      "C  30.0    Male    3000\n",
      "D   NaN    Male    1000\n",
      "===================================\n",
      "Index(['A', 'B', 'C', 'D'], dtype='object')\n"
     ]
    }
   ],
   "source": [
    "print(df)\n",
    "print(\"=\" * 35)\n",
    "\n",
    "print(df.index)"
   ]
  },
  {
   "cell_type": "markdown",
   "metadata": {},
   "source": [
    "## 1.3 返回列标签\n",
    "\n",
    "`df.columns`\n"
   ]
  },
  {
   "cell_type": "code",
   "execution_count": 44,
   "metadata": {},
   "outputs": [
    {
     "name": "stdout",
     "output_type": "stream",
     "text": [
      "    Age  Gender  Salary\n",
      "A  20.0    Male    4000\n",
      "B  20.0  Female    2000\n",
      "C  30.0    Male    3000\n",
      "D   NaN    Male    1000\n",
      "===================================\n",
      "Index(['Age', 'Gender', 'Salary'], dtype='object')\n"
     ]
    }
   ],
   "source": [
    "print(df)\n",
    "print(\"=\" * 35)\n",
    "\n",
    "print(df.columns)"
   ]
  },
  {
   "cell_type": "markdown",
   "metadata": {},
   "source": [
    "## 1.4 返回行标签和列标签\n",
    "\n",
    "`df.axes`\n"
   ]
  },
  {
   "cell_type": "code",
   "execution_count": 45,
   "metadata": {},
   "outputs": [
    {
     "name": "stdout",
     "output_type": "stream",
     "text": [
      "    Age  Gender  Salary\n",
      "A  20.0    Male    4000\n",
      "B  20.0  Female    2000\n",
      "C  30.0    Male    3000\n",
      "D   NaN    Male    1000\n",
      "===================================\n",
      "[Index(['A', 'B', 'C', 'D'], dtype='object'), Index(['Age', 'Gender', 'Salary'], dtype='object')]\n"
     ]
    }
   ],
   "source": [
    "print(df)\n",
    "print(\"=\" * 35)\n",
    "# 输出行标签和列标签\n",
    "print(df.axes)"
   ]
  },
  {
   "cell_type": "markdown",
   "metadata": {},
   "source": [
    "## 1.5 返回每一列的数据类型\n",
    "\n",
    "`df.dtypes`\n"
   ]
  },
  {
   "cell_type": "code",
   "execution_count": 46,
   "metadata": {},
   "outputs": [
    {
     "name": "stdout",
     "output_type": "stream",
     "text": [
      "    Age  Gender  Salary\n",
      "A  20.0    Male    4000\n",
      "B  20.0  Female    2000\n",
      "C  30.0    Male    3000\n",
      "D   NaN    Male    1000\n",
      "===================================\n",
      "Age       float64\n",
      "Gender     object\n",
      "Salary      int64\n",
      "dtype: object\n"
     ]
    }
   ],
   "source": [
    "print(df)\n",
    "print(\"=\" * 35)\n",
    "# 输出每一列的数据类型\n",
    "print(df.dtypes)"
   ]
  },
  {
   "cell_type": "markdown",
   "metadata": {},
   "source": [
    "## 1.6 判断是否是空表\n",
    "\n",
    "`df.empty`\n"
   ]
  },
  {
   "cell_type": "code",
   "execution_count": 47,
   "metadata": {},
   "outputs": [
    {
     "name": "stdout",
     "output_type": "stream",
     "text": [
      "    Age  Gender  Salary\n",
      "A  20.0    Male    4000\n",
      "B  20.0  Female    2000\n",
      "C  30.0    Male    3000\n",
      "D   NaN    Male    1000\n",
      "===================================\n",
      "False\n"
     ]
    }
   ],
   "source": [
    "print(df)\n",
    "print(\"=\" * 35)\n",
    "\n",
    "print(df.empty)"
   ]
  },
  {
   "cell_type": "markdown",
   "metadata": {},
   "source": [
    "## 1.7 获取 DateFrame 的形状\n",
    "\n",
    "`df.shape`\n"
   ]
  },
  {
   "cell_type": "code",
   "execution_count": 48,
   "metadata": {},
   "outputs": [
    {
     "name": "stdout",
     "output_type": "stream",
     "text": [
      "    Age  Gender  Salary\n",
      "A  20.0    Male    4000\n",
      "B  20.0  Female    2000\n",
      "C  30.0    Male    3000\n",
      "D   NaN    Male    1000\n",
      "===================================\n",
      "(4, 3)\n"
     ]
    }
   ],
   "source": [
    "print(df)\n",
    "print(\"=\" * 35)\n",
    "\n",
    "print(df.shape)"
   ]
  },
  {
   "cell_type": "markdown",
   "metadata": {},
   "source": [
    "## 1.8 获取 DataFrame 的元素个数\n",
    "\n",
    "`df.size`\n"
   ]
  },
  {
   "cell_type": "code",
   "execution_count": 49,
   "metadata": {},
   "outputs": [
    {
     "name": "stdout",
     "output_type": "stream",
     "text": [
      "    Age  Gender  Salary\n",
      "A  20.0    Male    4000\n",
      "B  20.0  Female    2000\n",
      "C  30.0    Male    3000\n",
      "D   NaN    Male    1000\n",
      "===================================\n",
      "12\n"
     ]
    }
   ],
   "source": [
    "print(df)\n",
    "print(\"=\" * 35)\n",
    "\n",
    "print(df.size)"
   ]
  },
  {
   "cell_type": "markdown",
   "metadata": {},
   "source": [
    "## 1.9 获取 DataFrame 的各个元素值\n",
    "\n",
    "`df.values`\n"
   ]
  },
  {
   "cell_type": "code",
   "execution_count": 50,
   "metadata": {},
   "outputs": [
    {
     "name": "stdout",
     "output_type": "stream",
     "text": [
      "    Age  Gender  Salary\n",
      "A  20.0    Male    4000\n",
      "B  20.0  Female    2000\n",
      "C  30.0    Male    3000\n",
      "D   NaN    Male    1000\n",
      "===================================\n",
      "[[20.0 'Male' 4000]\n",
      " [20.0 'Female' 2000]\n",
      " [30.0 'Male' 3000]\n",
      " [nan 'Male' 1000]]\n"
     ]
    }
   ],
   "source": [
    "print(df)\n",
    "print(\"=\" * 35)\n",
    "\n",
    "print(df.values)"
   ]
  },
  {
   "cell_type": "markdown",
   "metadata": {},
   "source": [
    "## 1.10 获取 DataFrame 的总体信息\n",
    "\n",
    "`df.info()`\n"
   ]
  },
  {
   "cell_type": "code",
   "execution_count": 51,
   "metadata": {},
   "outputs": [
    {
     "name": "stdout",
     "output_type": "stream",
     "text": [
      "    Age  Gender  Salary\n",
      "A  20.0    Male    4000\n",
      "B  20.0  Female    2000\n",
      "C  30.0    Male    3000\n",
      "D   NaN    Male    1000\n",
      "===================================\n",
      "<class 'pandas.core.frame.DataFrame'>\n",
      "Index: 4 entries, A to D\n",
      "Data columns (total 3 columns):\n",
      " #   Column  Non-Null Count  Dtype  \n",
      "---  ------  --------------  -----  \n",
      " 0   Age     3 non-null      float64\n",
      " 1   Gender  4 non-null      object \n",
      " 2   Salary  4 non-null      int64  \n",
      "dtypes: float64(1), int64(1), object(1)\n",
      "memory usage: 300.0+ bytes\n",
      "None\n"
     ]
    }
   ],
   "source": [
    "print(df)\n",
    "print(\"=\" * 35)\n",
    "\n",
    "print(df.info())"
   ]
  },
  {
   "cell_type": "markdown",
   "metadata": {},
   "source": [
    "# 2 方法\n"
   ]
  },
  {
   "cell_type": "markdown",
   "metadata": {},
   "source": [
    "## 2.1 查看前几行数据\n",
    "\n",
    "`df.head(n)`\n"
   ]
  },
  {
   "cell_type": "code",
   "execution_count": 52,
   "metadata": {},
   "outputs": [
    {
     "name": "stdout",
     "output_type": "stream",
     "text": [
      "    Age  Gender  Salary\n",
      "A  20.0    Male    4000\n",
      "B  20.0  Female    2000\n",
      "C  30.0    Male    3000\n",
      "D   NaN    Male    1000\n",
      "===================================\n",
      "    Age  Gender  Salary\n",
      "A  20.0    Male    4000\n",
      "B  20.0  Female    2000\n"
     ]
    }
   ],
   "source": [
    "print(df)\n",
    "print(\"=\" * 35)\n",
    "\n",
    "print(df.head(2))"
   ]
  },
  {
   "cell_type": "markdown",
   "metadata": {},
   "source": [
    "## 2.2 查看后几行数据\n",
    "\n",
    "`df.tail(n)`\n"
   ]
  },
  {
   "cell_type": "code",
   "execution_count": 53,
   "metadata": {},
   "outputs": [
    {
     "name": "stdout",
     "output_type": "stream",
     "text": [
      "    Age  Gender  Salary\n",
      "A  20.0    Male    4000\n",
      "B  20.0  Female    2000\n",
      "C  30.0    Male    3000\n",
      "D   NaN    Male    1000\n",
      "===================================\n",
      "    Age Gender  Salary\n",
      "C  30.0   Male    3000\n",
      "D   NaN   Male    1000\n"
     ]
    }
   ],
   "source": [
    "print(df)\n",
    "print(\"=\" * 35)\n",
    "\n",
    "print(df.tail(2))"
   ]
  },
  {
   "cell_type": "markdown",
   "metadata": {},
   "source": [
    "## 2.3 修改行列名\n",
    "\n",
    "`df.rename(columns={'old_name': 'new_ name'})`\n"
   ]
  },
  {
   "cell_type": "code",
   "execution_count": 54,
   "metadata": {},
   "outputs": [
    {
     "name": "stdout",
     "output_type": "stream",
     "text": [
      "    Age  Gender  Salary\n",
      "A  20.0    Male    4000\n",
      "B  20.0  Female    2000\n",
      "C  30.0    Male    3000\n",
      "D   NaN    Male    1000\n",
      "===================================\n",
      "     年龄  Gender  Salary\n",
      "A  20.0    Male    4000\n",
      "B  20.0  Female    2000\n",
      "C  30.0    Male    3000\n",
      "D   NaN    Male    1000\n",
      "      Age  Gender  Salary\n",
      "No1  20.0    Male    4000\n",
      "B    20.0  Female    2000\n",
      "C    30.0    Male    3000\n",
      "D     NaN    Male    1000\n",
      "     年龄      性别    薪资\n",
      "A  20.0    Male  4000\n",
      "B  20.0  Female  2000\n",
      "C  30.0    Male  3000\n",
      "D   NaN    Male  1000\n"
     ]
    }
   ],
   "source": [
    "print(df)\n",
    "print(\"=\" * 35)\n",
    "\n",
    "# 修改列名，将 Age 修改为年龄\n",
    "df1 = df.copy()\n",
    "df1.rename(columns={\"Age\": \"年龄\"}, inplace=True)\n",
    "print(df1)\n",
    "\n",
    "# 修改行名，将 A 修改为 No1\n",
    "df2 = df.copy()\n",
    "df2.rename(index={\"A\": \"No1\"}, inplace=True)\n",
    "print(df2)\n",
    "\n",
    "# 修改全部列名，统一改成中文\n",
    "df3 = df.copy()\n",
    "df3.columns = [\"年龄\", \"性别\", \"薪资\"]\n",
    "print(df3)"
   ]
  },
  {
   "cell_type": "markdown",
   "metadata": {},
   "source": [
    "## 2.4 根据标签名称重排行列标签\n",
    "\n",
    "`df.sort_index()`\n",
    "\n",
    "- `axis`: 指定排序的轴，`0`表示按行标签排序，`1`表示按列标签排序。\n",
    "- `ascending`: 指定排序的顺序，`True`表示升序，`False`表示降序。\n",
    "- `inplace`: 指定是否在原数据上进行排序，`True`表示在原数据上进行排序，`False`表示返回排序后的副本。\n",
    "- `na_position`: 仅对行标签重排有作用，指定缺失值的位置，`'last'`表示将缺失值放在排序结果的最后，`'first'`表示将缺失值放在排序结果的最前面。\n"
   ]
  },
  {
   "cell_type": "code",
   "execution_count": 55,
   "metadata": {},
   "outputs": [
    {
     "name": "stdout",
     "output_type": "stream",
     "text": [
      "    Age  Gender  Salary\n",
      "A  20.0    Male    4000\n",
      "B  20.0  Female    2000\n",
      "C  30.0    Male    3000\n",
      "D   NaN    Male    1000\n",
      "===================================\n",
      "   Salary Gender   Age\n",
      "A    4000   Male  20.0\n",
      "B    2000    NaN  20.0\n",
      "C    3000   Male  30.0\n",
      "D    1000   Male   NaN\n",
      "===================================\n",
      "   Salary Gender   Age\n",
      "D    1000   Male   NaN\n",
      "C    3000   Male  30.0\n",
      "B    2000    NaN  20.0\n",
      "A    4000   Male  20.0\n"
     ]
    }
   ],
   "source": [
    "print(df)\n",
    "print(\"=\" * 35)\n",
    "\n",
    "# 重排列标签，na_position 并不起作用\n",
    "df4 = df.copy()\n",
    "df4.loc[[\"B\"], \"Gender\"] = np.nan\n",
    "df4.sort_index(axis=1, ascending=False, inplace=True, na_position=\"first\")\n",
    "print(df4)\n",
    "print(\"=\" * 35)\n",
    "\n",
    "df4.sort_index(axis=0, ascending=False, inplace=True, na_position=\"first\")\n",
    "print(df4)"
   ]
  },
  {
   "cell_type": "markdown",
   "metadata": {},
   "source": [
    "## 2.5 根据某列数据重排行\n",
    "\n",
    "`df.sort_values(by='column_name', ascending=True, inplace=False, na_position='last')`\n"
   ]
  },
  {
   "cell_type": "code",
   "execution_count": 60,
   "metadata": {},
   "outputs": [
    {
     "name": "stdout",
     "output_type": "stream",
     "text": [
      "    Age  Gender  Salary\n",
      "A  20.0    Male    4000\n",
      "B  20.0  Female    2000\n",
      "C  30.0    Male    3000\n",
      "D   NaN    Male    1000\n",
      "===================================\n",
      "    Age  Gender  Salary\n",
      "C  30.0    Male    3000\n",
      "A  20.0    Male    4000\n",
      "B  20.0  Female    2000\n",
      "D   NaN    Male    1000\n",
      "===================================\n",
      "    Age  Gender  Salary\n",
      "D   NaN    Male    1000\n",
      "A  20.0    Male    4000\n",
      "B  20.0  Female    2000\n",
      "C  30.0    Male    3000\n"
     ]
    }
   ],
   "source": [
    "print(df)\n",
    "print(\"=\" * 35)\n",
    "\n",
    "# 按照年龄升序排列\n",
    "df5 = df.copy()\n",
    "df5.sort_values(by=\"Age\", ascending=False, inplace=True)\n",
    "print(df5)\n",
    "print(\"=\" * 35)\n",
    "\n",
    "# 先按照年龄升序，再薪资降序排列，NaN 值放在最前面\n",
    "df6 = df.copy()\n",
    "df6.sort_values(\n",
    "    by=[\"Age\", \"Salary\"], ascending=[True, False], inplace=True, na_position=\"first\"\n",
    ")\n",
    "print(df6)"
   ]
  }
 ],
 "metadata": {
  "kernelspec": {
   "display_name": "MachineLearning",
   "language": "python",
   "name": "python3"
  },
  "language_info": {
   "codemirror_mode": {
    "name": "ipython",
    "version": 3
   },
   "file_extension": ".py",
   "mimetype": "text/x-python",
   "name": "python",
   "nbconvert_exporter": "python",
   "pygments_lexer": "ipython3",
   "version": "3.10.13"
  },
  "orig_nbformat": 4
 },
 "nbformat": 4,
 "nbformat_minor": 2
}
