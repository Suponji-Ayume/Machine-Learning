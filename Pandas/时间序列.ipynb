{
 "cells": [
  {
   "cell_type": "code",
   "execution_count": 1,
   "metadata": {},
   "outputs": [],
   "source": [
    "import pandas as pd\n",
    "import numpy as np\n",
    "import time\n",
    "import datetime"
   ]
  },
  {
   "cell_type": "markdown",
   "metadata": {},
   "source": [
    "# 一、时间序列类型"
   ]
  },
  {
   "cell_type": "markdown",
   "metadata": {},
   "source": [
    "## 1 时间戳\n",
    "`pandas.Timestamp(ts_input, freq=None, tz=None, unit=None, year=None, month=None, day=None, hour=None, minute=None, second=None, microsecond=None, nanosecond=None, tzinfo=None, ambiguous='raise', name=None, **kwargs)`\n",
    "- ts_input: 时间戳\n",
    "- freq: 频率\n",
    "- tz: 时区\n",
    "- unit: 单位\n",
    "- year: 年\n",
    "- month: 月\n",
    "- day: 日\n",
    "- hour: 时\n",
    "- minute: 分\n",
    "- second: 秒\n",
    "- microsecond: 微秒\n",
    "- nanosecond: 纳秒\n",
    "- tzinfo: 时区信息\n",
    "- ambiguous: 是否模糊\n",
    "- name: 名称\n",
    "- kwargs: 其他参数"
   ]
  },
  {
   "cell_type": "code",
   "execution_count": 235,
   "metadata": {},
   "outputs": [
    {
     "name": "stdout",
     "output_type": "stream",
     "text": [
      "2017-05-31 10:05:00\n",
      "2023-11-22 14:40:42+08:00\n",
      "1970-01-01 00:00:01.700635242\n"
     ]
    }
   ],
   "source": [
    "# 输入日期字符串\n",
    "print(pd.Timestamp('31/05/2017 10:05AM'))\n",
    "\n",
    "# 输入时间戳\n",
    "print(pd.Timestamp(int(time.time()), unit='s', tz='Asia/Hong_Kong')) \n",
    "\n",
    "# 如果输入无法按照给定或者默认的 unit 转换为时间戳，会定位到初试时间，即 1970-01-01 00:00:00\n",
    "print(pd.Timestamp(time.time()))"
   ]
  },
  {
   "cell_type": "markdown",
   "metadata": {},
   "source": [
    "## 2 时间间隔——实现 datetime 加减\n",
    "`pandas.Timedelta(value, unit='ns', **kwargs)`\n",
    "- value: 时间间隔，可以是整数、浮点数、Timedelta 数据\n",
    "- unit: 单位\n",
    "- kwargs: 其他参数\n"
   ]
  }
 ],
 "metadata": {
  "kernelspec": {
   "display_name": "MachineLearning",
   "language": "python",
   "name": "python3"
  },
  "language_info": {
   "codemirror_mode": {
    "name": "ipython",
    "version": 3
   },
   "file_extension": ".py",
   "mimetype": "text/x-python",
   "name": "python",
   "nbconvert_exporter": "python",
   "pygments_lexer": "ipython3",
   "version": "3.10.13"
  },
  "orig_nbformat": 4
 },
 "nbformat": 4,
 "nbformat_minor": 2
}
