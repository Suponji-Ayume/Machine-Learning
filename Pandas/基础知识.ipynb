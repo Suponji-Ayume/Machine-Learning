{
 "cells": [
  {
   "cell_type": "code",
   "execution_count": 1,
   "metadata": {},
   "outputs": [],
   "source": [
    "import numpy as np\n",
    "import pandas as pd"
   ]
  },
  {
   "cell_type": "markdown",
   "metadata": {},
   "source": [
    "# 1 `Series`\n"
   ]
  },
  {
   "cell_type": "markdown",
   "metadata": {},
   "source": [
    "## 1.1 创建 Series 数据结构\n",
    "\n",
    "`pd.Series(data = None, index = None, dtype = None, name = None, copy = False)`\n",
    "\n",
    "data：这是 Series 的数据部分，可以是列表、NumPy 数组、字典等。它是 Series 中的实际数据内容。可以是以下几种形式：\n",
    "\n",
    "- 列表或数组：直接传递一个包含数据的列表或 NumPy 数组。\n",
    "\n",
    "- 字典：将字典的值作为数据，字典的键可以成为 Series 的索引标签。\n",
    "\n",
    "- 标量值：如果只传递一个标量值，它会被广播到 Series 的所有元素。\n",
    "\n",
    "index：这是 Series 的索引部分，它用于标识数据的标签或标识。可以是以下几种形式：\n",
    "\n",
    "- 列表、数组或其他可迭代对象：用于指定 Series 的索引标签。\n",
    "\n",
    "- 如果未提供索引参数，将默认使用整数索引。\n",
    "\n",
    "dtype：这是 Series 的数据类型，用于指定 Series 中数据的数据类型。默认情况下，pandas 会尝试推断数据类型。你可以明确指定数据类型，例如 dtype='int64' 或 dtype='float64'。\n",
    "\n",
    "name：这是 Series 对象的名称，可以给 Series 对象起一个可识别的名称。它通常用于标识数据的含义。例如，如果你创建了一个表示温度的 Series，你可以将其命名为 'Temperature'。\n",
    "\n",
    "copy：这是一个布尔值，用于控制是否复制传递给 Series 的数据。默认情况下，如果数据是可变的（例如列表），则会创建数据的副本，以避免原始数据的不受控制的更改。设置为 True 会始终复制数据，而设置为 False 则会尝试共享数据的引用。\n"
   ]
  },
  {
   "cell_type": "markdown",
   "metadata": {},
   "source": [
    "### 1.1.1 使用列表作为数据源创建 Series\n"
   ]
  },
  {
   "cell_type": "code",
   "execution_count": 2,
   "metadata": {},
   "outputs": [
    {
     "name": "stdout",
     "output_type": "stream",
     "text": [
      "<class 'list'>\n",
      "-----------------------------------\n",
      "0    1\n",
      "1    2\n",
      "2    3\n",
      "3    4\n",
      "4    5\n",
      "dtype: int64\n",
      "-----------------------------------\n",
      "<class 'pandas.core.series.Series'>\n"
     ]
    }
   ],
   "source": [
    "ar_list = [1, 2, 3, 4, 5]\n",
    "print(type(ar_list))\n",
    "print(\"-\" * 35)\n",
    "\n",
    "# 使用列表创建 Series\n",
    "s1 = pd.Series(ar_list)\n",
    "print(s1)\n",
    "print(\"-\" * 35)\n",
    "print(type(s1))"
   ]
  },
  {
   "cell_type": "markdown",
   "metadata": {},
   "source": [
    "### 1.1.2 使用数组作为数据源创建 Series\n"
   ]
  },
  {
   "cell_type": "code",
   "execution_count": 3,
   "metadata": {},
   "outputs": [
    {
     "name": "stdout",
     "output_type": "stream",
     "text": [
      "[0 1 2 3 4 5]\n",
      "<class 'numpy.ndarray'>\n",
      "-----------------------------------\n",
      "a    0\n",
      "b    1\n",
      "c    2\n",
      "d    3\n",
      "e    4\n",
      "f    5\n",
      "dtype: int64\n",
      "-----------------------------------\n",
      "<class 'pandas.core.series.Series'>\n",
      "-----------------------------------\n",
      "['a', 'b', 'c', 'd', 'e', 'f'] \t [0 1 2 3 4 5]\n",
      "-----------------------------------\n",
      "type(s1.values) =  <class 'numpy.ndarray'>\n"
     ]
    }
   ],
   "source": [
    "array = np.arange(6)\n",
    "print(array)\n",
    "print(type(array))\n",
    "print(\"-\" * 35)\n",
    "\n",
    "# 创建 Series\n",
    "s1 = pd.Series(array, index=[\"a\", \"b\", \"c\", \"d\", \"e\", \"f\"])\n",
    "print(s1)\n",
    "print(\"-\" * 35)\n",
    "print(type(s1))\n",
    "\n",
    "print(\"-\" * 35)\n",
    "\n",
    "# 输出标签和值，标签可以强制转换为 list\n",
    "print(list(s1.index), \"\\t\", s1.values)\n",
    "print(\"-\" * 35)\n",
    "print(\"type(s1.values) = \", type(s1.values))"
   ]
  },
  {
   "cell_type": "markdown",
   "metadata": {},
   "source": [
    "### 1.1.3 使用字典作为数据源创建 Series\n",
    "\n",
    "如果用字典预先指定了 index，但是构造 Series 的时候又传递了 index 数组作为参数，此时发生冲突的 index 的值会被赋值为 NaN\n",
    "\n",
    "也可以利用 index 传递一个 dict 键的重排列，来构建一个重新排序的 Series\n"
   ]
  },
  {
   "cell_type": "code",
   "execution_count": 4,
   "metadata": {},
   "outputs": [
    {
     "name": "stdout",
     "output_type": "stream",
     "text": [
      "a    1\n",
      "b    2\n",
      "c    3\n",
      "d    4\n",
      "e    5\n",
      "dtype: int64\n"
     ]
    }
   ],
   "source": [
    "dict = {\"a\": 1, \"b\": 2, \"c\": 3, \"d\": 4, \"e\": 5}\n",
    "\n",
    "s1 = pd.Series(dict)\n",
    "\n",
    "print(s1)"
   ]
  },
  {
   "cell_type": "code",
   "execution_count": 5,
   "metadata": {},
   "outputs": [
    {
     "name": "stdout",
     "output_type": "stream",
     "text": [
      "x    NaN\n",
      "b    2.0\n",
      "z    NaN\n",
      "dtype: float64\n"
     ]
    }
   ],
   "source": [
    "# 传递的 index 数组与构造 Series 的字典键冲突\n",
    "dict = {\"a\": 1, \"b\": 2, \"c\": 3}\n",
    "s1 = pd.Series(dict, index=[\"x\", \"b\", \"z\"])\n",
    "print(s1)"
   ]
  },
  {
   "cell_type": "code",
   "execution_count": 6,
   "metadata": {},
   "outputs": [
    {
     "name": "stdout",
     "output_type": "stream",
     "text": [
      "c    3\n",
      "a    1\n",
      "b    2\n",
      "dtype: int64\n"
     ]
    }
   ],
   "source": [
    "# 利用 index 重排\n",
    "dict = {\"a\": 1, \"b\": 2, \"c\": 3}\n",
    "s1 = pd.Series(dict, index=[\"c\", \"a\", \"b\"])\n",
    "print(s1)"
   ]
  },
  {
   "cell_type": "markdown",
   "metadata": {},
   "source": [
    "### 1.1.4 参数`name`\n"
   ]
  },
  {
   "cell_type": "code",
   "execution_count": 7,
   "metadata": {},
   "outputs": [
    {
     "name": "stdout",
     "output_type": "stream",
     "text": [
      "City\n",
      "a    1\n",
      "b    2\n",
      "c    3\n",
      "Name: Population, dtype: int64\n",
      "-----------------------------------\n",
      "City\n",
      "Guangzhou    38.3\n",
      "Haerbin      20.3\n",
      "Chengdu      28.7\n",
      "Name: Temperature, dtype: float64\n",
      "-----------------------------------\n",
      "           Population  Temperature\n",
      "City                              \n",
      "Chengdu           NaN         28.7\n",
      "Guangzhou         NaN         38.3\n",
      "Haerbin           NaN         20.3\n",
      "a                 1.0          NaN\n",
      "b                 2.0          NaN\n",
      "c                 3.0          NaN\n",
      "-----------------------------------\n",
      "City\n",
      "Chengdu      NaN\n",
      "Guangzhou    NaN\n",
      "Haerbin      NaN\n",
      "a            1.0\n",
      "b            2.0\n",
      "c            3.0\n",
      "Name: Population, dtype: float64\n"
     ]
    }
   ],
   "source": [
    "dict_1 = {\"Beijing\": 1000, \"Shanghai\": 2000, \"Guangzhou\": 3000}\n",
    "s1 = pd.Series(dict, name=\"Population\")\n",
    "s1.index.name = \"City\"\n",
    "print(s1)\n",
    "print(\"-\" * 35)\n",
    "dict_2 = {\"Guangzhou\": 38.3, \"Haerbin\": 20.3, \"Chengdu\": 28.7}\n",
    "s2 = pd.Series(dict_2, name=\"Temperature\")\n",
    "s2.index.name = \"City\"\n",
    "print(s2)\n",
    "print(\"-\" * 35)\n",
    "df = pd.DataFrame({\"Population\": s1, \"Temperature\": s2})\n",
    "print(df)\n",
    "print(\"-\" * 35)\n",
    "\n",
    "print(df[\"Population\"])"
   ]
  },
  {
   "cell_type": "markdown",
   "metadata": {},
   "source": [
    "## 1.2 索引\n"
   ]
  },
  {
   "cell_type": "markdown",
   "metadata": {},
   "source": [
    "### 1.2.1 通过标签索引\n",
    "\n",
    "当索引标签不存在时，索引会报错，但是可以进行赋值，相当于新增数据\n",
    "\n",
    "想索引多个标签的时候，需要将索引标签放进一个数组中, e.g. s1[['a', 'b', 'c']]\n"
   ]
  },
  {
   "cell_type": "code",
   "execution_count": 8,
   "metadata": {},
   "outputs": [
    {
     "name": "stdout",
     "output_type": "stream",
     "text": [
      "a    0\n",
      "b    1\n",
      "c    2\n",
      "d    3\n",
      "e    4\n",
      "f    5\n",
      "dtype: int64\n",
      "-----------------------------------\n",
      "2\n",
      "-----------------------------------\n",
      "a         0\n",
      "b         1\n",
      "c         2\n",
      "d         3\n",
      "e         4\n",
      "f         5\n",
      "love    you\n",
      "dtype: object\n",
      "-----------------------------------\n",
      "a         0\n",
      "c         2\n",
      "love    you\n",
      "dtype: object\n"
     ]
    }
   ],
   "source": [
    "array = np.arange(6)\n",
    "\n",
    "s1 = pd.Series(array, index=[\"a\", \"b\", \"c\", \"d\", \"e\", \"f\"])\n",
    "print(s1)\n",
    "print(\"-\" * 35)\n",
    "\n",
    "print(s1[\"c\"])\n",
    "\n",
    "print(\"-\" * 35)\n",
    "\n",
    "# 新增数据\n",
    "s1[\"love\"] = \"you\"\n",
    "print(s1)\n",
    "\n",
    "print(\"-\" * 35)\n",
    "print(s1[[\"a\", \"c\", \"love\"]])"
   ]
  },
  {
   "cell_type": "markdown",
   "metadata": {},
   "source": [
    "### 1.2.2 通过位置索引\n",
    "\n",
    "如果标签同样类型为 int，那么此时的索引优先匹配标签，如果标签数据类型不是 int，则按照位置从 0 开始递增索引\n",
    "\n",
    "`一般不建议采用位置索引，标签索引是最安全的`\n"
   ]
  },
  {
   "cell_type": "code",
   "execution_count": 9,
   "metadata": {},
   "outputs": [
    {
     "name": "stdout",
     "output_type": "stream",
     "text": [
      "s1 = \n",
      " 0    0\n",
      "1    1\n",
      "2    2\n",
      "3    3\n",
      "4    4\n",
      "5    5\n",
      "dtype: int64\n",
      "-----------------------------------\n",
      "s2 = \n",
      " 1    0\n",
      "2    1\n",
      "3    2\n",
      "4    3\n",
      "5    4\n",
      "6    5\n",
      "dtype: int64\n",
      "-----------------------------------\n",
      "s3 = \n",
      " a    0\n",
      "b    1\n",
      "c    2\n",
      "d    3\n",
      "e    4\n",
      "f    5\n",
      "dtype: int64\n",
      "-----------------------------------\n",
      "s1[2] =  2\n",
      "s2[2] =  1\n",
      "s3[2] =  2\n"
     ]
    },
    {
     "name": "stderr",
     "output_type": "stream",
     "text": [
      "/var/folders/z7/0bpm4x0d1l12by_8_w62qyd80000gn/T/ipykernel_24699/1681356824.py:19: FutureWarning: Series.__getitem__ treating keys as positions is deprecated. In a future version, integer keys will always be treated as labels (consistent with DataFrame behavior). To access a value by position, use `ser.iloc[pos]`\n",
      "  print(\"s3[2] = \", s3[2])\n"
     ]
    }
   ],
   "source": [
    "array = np.arange(6)\n",
    "\n",
    "s1 = pd.Series(array)\n",
    "\n",
    "s2 = pd.Series(array, index=[i for i in range(1, 7)])\n",
    "\n",
    "s3 = pd.Series(array, index=[i for i in \"abcdef\"])\n",
    "\n",
    "print(\"s1 = \\n\", s1)\n",
    "print(\"-\" * 35)\n",
    "print(\"s2 = \\n\", s2)\n",
    "print(\"-\" * 35)\n",
    "print(\"s3 = \\n\", s3)\n",
    "print(\"-\" * 35)\n",
    "\n",
    "# 开始尝试位置索引\n",
    "print(\"s1[2] = \", s1[2])\n",
    "print(\"s2[2] = \", s2[2])\n",
    "print(\"s3[2] = \", s3[2])"
   ]
  },
  {
   "cell_type": "markdown",
   "metadata": {},
   "source": [
    "## 1.3 切片\n",
    "\n",
    "当位置索引与标签索引恰好一致，即 `index = [0,1,2,3,...] `时，切片不包含末端，否则标签索引切片包含末端，位置索引切片不包含末端\n"
   ]
  },
  {
   "cell_type": "code",
   "execution_count": 10,
   "metadata": {},
   "outputs": [
    {
     "name": "stdout",
     "output_type": "stream",
     "text": [
      "0    0\n",
      "1    1\n",
      "2    2\n",
      "3    3\n",
      "4    4\n",
      "5    5\n",
      "dtype: int64\n",
      "-----------------------------------\n",
      "0    0\n",
      "1    1\n",
      "2    2\n",
      "dtype: int64\n",
      "a    1\n",
      "b    2\n",
      "c    3\n",
      "d    4\n",
      "e    5\n",
      "dtype: int64\n",
      "-----------------------------------\n",
      "b    2\n",
      "c    3\n",
      "d    4\n",
      "dtype: int64\n",
      "-----------------------------------\n",
      "b    2\n",
      "c    3\n",
      "dtype: int64\n"
     ]
    }
   ],
   "source": [
    "# 位置索引与标签索引恰好一致\n",
    "s1 = pd.Series(np.arange(6))\n",
    "print(s1)\n",
    "print(\"-\" * 35)\n",
    "print(s1[0:3])\n",
    "\n",
    "# 采用标签索引，包含末端\n",
    "s2 = pd.Series({\"a\": 1, \"b\": 2, \"c\": 3, \"d\": 4, \"e\": 5})\n",
    "print(s2)\n",
    "print(\"-\" * 35)\n",
    "print(s2[\"b\":\"d\"])\n",
    "print(\"-\" * 35)\n",
    "\n",
    "# 采用位置索引，不包含末端\n",
    "print(s2[1:3])"
   ]
  },
  {
   "cell_type": "markdown",
   "metadata": {},
   "source": [
    "## 1.3 基本操作\n"
   ]
  },
  {
   "cell_type": "markdown",
   "metadata": {},
   "source": [
    "### 1.3.1 查看前几条和后几条数据\n",
    "\n",
    "`Series.head(int) / Series.tail(int)`\n"
   ]
  },
  {
   "cell_type": "code",
   "execution_count": 11,
   "metadata": {},
   "outputs": [
    {
     "name": "stdout",
     "output_type": "stream",
     "text": [
      "0    0.114446\n",
      "1    0.947889\n",
      "2    0.850779\n",
      "dtype: float64\n",
      "-----------------------------------\n",
      "12    0.751800\n",
      "13    0.091359\n",
      "14    0.465568\n",
      "dtype: float64\n"
     ]
    }
   ],
   "source": [
    "s = pd.Series(np.random.rand(15))\n",
    "print(s.head(3))\n",
    "print(\"-\" * 35)\n",
    "print(s.tail(3))"
   ]
  },
  {
   "cell_type": "markdown",
   "metadata": {},
   "source": [
    "### 1.3.2 重排索引\n",
    "\n",
    "`Series.reindex(list/ndarray, fill_value = NaN)`\n",
    "\n",
    "如果新的索引中出现了原索引中没有出现过的索引，则产生新对象，并默认赋值为 NaN\n"
   ]
  },
  {
   "cell_type": "code",
   "execution_count": 12,
   "metadata": {},
   "outputs": [
    {
     "name": "stdout",
     "output_type": "stream",
     "text": [
      "a    0.264608\n",
      "b    0.357120\n",
      "c    0.634176\n",
      "d    0.574796\n",
      "e    0.565667\n",
      "dtype: float64\n",
      "-----------------------------------\n",
      "a    0.264608\n",
      "c    0.634176\n",
      "d    0.574796\n",
      "e    0.565667\n",
      "b    0.357120\n",
      "dtype: float64\n",
      "-----------------------------------\n",
      "c    0.634176\n",
      "d    0.574796\n",
      "e    0.565667\n",
      "p    0.000000\n",
      "q    0.000000\n",
      "dtype: float64\n"
     ]
    }
   ],
   "source": [
    "s1 = pd.Series(np.random.rand(5), index=list(\"abcde\"))\n",
    "print(s1)\n",
    "print(\"-\" * 35)\n",
    "\n",
    "s2 = s1.reindex(list(\"acdeb\"))\n",
    "print(s2)\n",
    "print(\"-\" * 35)\n",
    "\n",
    "s3 = s1.reindex(list(\"cdepq\"), fill_value=0)\n",
    "print(s3)"
   ]
  },
  {
   "cell_type": "markdown",
   "metadata": {},
   "source": [
    "### 1.3.3 对齐运算\n",
    "\n",
    "可以按照标签索引对齐运算，没有对齐的标签索引对应的值为 NaN\n"
   ]
  },
  {
   "cell_type": "code",
   "execution_count": 13,
   "metadata": {},
   "outputs": [
    {
     "name": "stdout",
     "output_type": "stream",
     "text": [
      "a    0.638953\n",
      "b    0.358544\n",
      "c    0.006646\n",
      "dtype: float64\n",
      "-----------------------------------\n",
      "b    0.796181\n",
      "c    0.829006\n",
      "d    0.411556\n",
      "e    0.273360\n",
      "dtype: float64\n",
      "-----------------------------------\n",
      "a         NaN\n",
      "b    1.154725\n",
      "c    0.835652\n",
      "d         NaN\n",
      "e         NaN\n",
      "dtype: float64\n"
     ]
    }
   ],
   "source": [
    "s1 = pd.Series(np.random.rand(3), index=list(\"abc\"))\n",
    "s2 = pd.Series(np.random.rand(4), index=list(\"bcde\"))\n",
    "print(s1)\n",
    "print(\"-\" * 35)\n",
    "print(s2)\n",
    "print(\"-\" * 35)\n",
    "print(s1 + s2)"
   ]
  },
  {
   "cell_type": "markdown",
   "metadata": {},
   "source": [
    "### 1.3.4 删除索引和值\n",
    "\n",
    "`Series.drop(index, inplace = False)`\n",
    "\n",
    "False 返回删除后的新 Series，原始 Series 不改变，True 返回 None，原始 Series 改变\n"
   ]
  },
  {
   "cell_type": "code",
   "execution_count": 14,
   "metadata": {},
   "outputs": [
    {
     "name": "stdout",
     "output_type": "stream",
     "text": [
      "s = \n",
      " a    0.566813\n",
      "b    0.901056\n",
      "c    0.954543\n",
      "dtype: float64\n",
      "-----------------------------------\n",
      "s1 = \n",
      " b    0.901056\n",
      "c    0.954543\n",
      "dtype: float64\n",
      "-----------------------------------\n",
      "s = \n",
      " a    0.566813\n",
      "b    0.901056\n",
      "c    0.954543\n",
      "dtype: float64\n",
      "-----------------------------------\n",
      "s2 =  None\n",
      "-----------------------------------\n",
      "s = \n",
      " a    0.566813\n",
      "c    0.954543\n",
      "dtype: float64\n"
     ]
    }
   ],
   "source": [
    "s = pd.Series(np.random.rand(3), index=list(\"abc\"))\n",
    "print(\"s = \\n\", s)\n",
    "print(\"-\" * 35)\n",
    "\n",
    "s1 = s.drop(\"a\")\n",
    "print(\"s1 = \\n\", s1)\n",
    "print(\"-\" * 35)\n",
    "print(\"s = \\n\", s)\n",
    "print(\"-\" * 35)\n",
    "\n",
    "s2 = s.drop(\"b\", inplace=True)\n",
    "print(\"s2 = \", s2)\n",
    "print(\"-\" * 35)\n",
    "print(\"s = \\n\", s)"
   ]
  },
  {
   "cell_type": "markdown",
   "metadata": {},
   "source": [
    "### 1.3.5 添加索引和值\n",
    "\n",
    "直接给新的索引赋值即可\n"
   ]
  },
  {
   "cell_type": "code",
   "execution_count": 15,
   "metadata": {},
   "outputs": [
    {
     "name": "stdout",
     "output_type": "stream",
     "text": [
      "a    0.358333\n",
      "b    0.161135\n",
      "c    0.112032\n",
      "dtype: float64\n",
      "-----------------------------------\n",
      "a       0.358333\n",
      "b       0.161135\n",
      "c       0.112032\n",
      "love         you\n",
      "dtype: object\n"
     ]
    }
   ],
   "source": [
    "s = pd.Series(np.random.rand(3), index=list(\"abc\"))\n",
    "print(s)\n",
    "print(\"-\" * 35)\n",
    "\n",
    "s[\"love\"] = \"you\"\n",
    "print(s)"
   ]
  },
  {
   "cell_type": "markdown",
   "metadata": {},
   "source": [
    "# 2 `DataFrame`\n"
   ]
  },
  {
   "cell_type": "markdown",
   "metadata": {},
   "source": [
    "## 2.1 创建 DataFrame\n",
    "\n",
    "`pd.DataFrame(data, index = None, columns = None, dtype = None, copy = False)`\n"
   ]
  },
  {
   "cell_type": "markdown",
   "metadata": {},
   "source": [
    "### 2.1.1 使用列表创建 DataFrame\n"
   ]
  },
  {
   "cell_type": "code",
   "execution_count": 16,
   "metadata": {},
   "outputs": [
    {
     "name": "stdout",
     "output_type": "stream",
     "text": [
      "   0\n",
      "0  1\n",
      "1  2\n",
      "2  3\n",
      "3  4\n",
      "4  5\n"
     ]
    }
   ],
   "source": [
    "list1 = [1, 2, 3, 4, 5]\n",
    "df = pd.DataFrame(list1)\n",
    "print(df)"
   ]
  },
  {
   "cell_type": "markdown",
   "metadata": {},
   "source": [
    "### 2.1.2 使用嵌套列表创建 DataFrame\n",
    "\n",
    "一个列表对应一行，列名单独写\n"
   ]
  },
  {
   "cell_type": "code",
   "execution_count": 17,
   "metadata": {},
   "outputs": [
    {
     "name": "stdout",
     "output_type": "stream",
     "text": [
      "  letter  number\n",
      "0      a       1\n",
      "1      b       2\n",
      "2      c       3\n"
     ]
    }
   ],
   "source": [
    "df = pd.DataFrame([[\"a\", 1], [\"b\", 2], [\"c\", 3]], columns=[\"letter\", \"number\"])\n",
    "print(df)"
   ]
  },
  {
   "cell_type": "markdown",
   "metadata": {},
   "source": [
    "### 2.1.3 使用列表嵌套字典创建 DataFrame\n",
    "\n",
    "一个列表对应一行，列名为字典的键\n"
   ]
  },
  {
   "cell_type": "code",
   "execution_count": 18,
   "metadata": {},
   "outputs": [
    {
     "name": "stdout",
     "output_type": "stream",
     "text": [
      "         Char Capital  Num\n",
      "Sample 1    a       A  NaN\n",
      "Sample 2    b       B    2\n",
      "         Char Capital\n",
      "Sample 1    a       A\n",
      "Sample 2    b       B\n"
     ]
    }
   ],
   "source": [
    "df = pd.DataFrame(\n",
    "    [{\"Char\": \"a\", \"Capital\": \"A\"}, {\"Char\": \"b\", \"Capital\": \"B\", \"Num\": \"2\"}],\n",
    "    index=[\"Sample 1\", \"Sample 2\"],\n",
    ")\n",
    "print(df)\n",
    "\n",
    "# 如果只想显示部分列，可以使用 columns 参数\n",
    "df_partial = pd.DataFrame(df, columns=[\"Char\", \"Capital\"], copy=True)\n",
    "print(df_partial)"
   ]
  },
  {
   "cell_type": "markdown",
   "metadata": {},
   "source": [
    "### 2.1.4 使用 Series 创建 DataFrame\n"
   ]
  },
  {
   "cell_type": "code",
   "execution_count": 19,
   "metadata": {},
   "outputs": [
    {
     "name": "stdout",
     "output_type": "stream",
     "text": [
      "    Age  Salary\n",
      "A  10.0    1000\n",
      "B  20.0    2000\n",
      "C  30.0    3000\n",
      "D   NaN    4000\n"
     ]
    }
   ],
   "source": [
    "age = pd.Series([10, 20, 30], index=[\"A\", \"B\", \"C\"], dtype=np.int64)\n",
    "salary = pd.Series([1000, 2000, 3000, 4000], index=[\"A\", \"B\", \"C\", \"D\"])\n",
    "data = {\"Age\": age, \"Salary\": salary}\n",
    "df = pd.DataFrame(data)\n",
    "print(df)"
   ]
  },
  {
   "cell_type": "markdown",
   "metadata": {},
   "source": [
    "## 2.2 列操作\n"
   ]
  },
  {
   "cell_type": "markdown",
   "metadata": {},
   "source": [
    "### 2.2.1 选取数据列\n",
    "\n",
    "直接索引列名就可以取出数据列\n"
   ]
  },
  {
   "cell_type": "code",
   "execution_count": 20,
   "metadata": {},
   "outputs": [
    {
     "name": "stdout",
     "output_type": "stream",
     "text": [
      "    Age  Gender  Salary\n",
      "A  10.0    Male    1000\n",
      "B  20.0  Female    2000\n",
      "C  30.0    Male    3000\n",
      "D   NaN    Male    4000\n",
      "===================================\n",
      "A    1000\n",
      "B    2000\n",
      "C    3000\n",
      "D    4000\n",
      "Name: Salary, dtype: int64\n",
      "===================================\n",
      "    Age  Salary\n",
      "A  10.0    1000\n",
      "B  20.0    2000\n",
      "C  30.0    3000\n",
      "D   NaN    4000\n"
     ]
    }
   ],
   "source": [
    "age = pd.Series([10, 20, 30], index=[\"A\", \"B\", \"C\"], dtype=np.int64)\n",
    "salary = pd.Series([1000, 2000, 3000, 4000], index=[\"A\", \"B\", \"C\", \"D\"])\n",
    "gender = pd.Series([\"Male\", \"Female\", \"Male\", \"Male\"], index=[\"A\", \"B\", \"C\", \"D\"])\n",
    "data = {\"Age\": age, \"Gender\": gender, \"Salary\": salary}\n",
    "df = pd.DataFrame(data)\n",
    "print(df)\n",
    "\n",
    "print(\"=\" * 35)\n",
    "print(df[\"Salary\"])\n",
    "\n",
    "print(\"=\" * 35)\n",
    "print(df[[\"Age\", \"Salary\"]])"
   ]
  },
  {
   "cell_type": "markdown",
   "metadata": {},
   "source": [
    "### 2.2.2 增加数据列\n"
   ]
  },
  {
   "cell_type": "markdown",
   "metadata": {},
   "source": [
    "#### 2.2.2.1 通过索引直接添加一个 Series\n"
   ]
  },
  {
   "cell_type": "code",
   "execution_count": 21,
   "metadata": {},
   "outputs": [
    {
     "name": "stdout",
     "output_type": "stream",
     "text": [
      "    Age  Gender  Salary\n",
      "A  10.0    Male    1000\n",
      "B  20.0  Female    2000\n",
      "C  30.0    Male    3000\n",
      "D   NaN    Male    4000\n",
      "===================================\n",
      "    Age  Gender  Salary  Index\n",
      "A  10.0    Male    1000      1\n",
      "B  20.0  Female    2000      2\n",
      "C  30.0    Male    3000      3\n",
      "D   NaN    Male    4000      4\n"
     ]
    }
   ],
   "source": [
    "age = pd.Series([10, 20, 30], index=[\"A\", \"B\", \"C\"], dtype=np.int64)\n",
    "salary = pd.Series([1000, 2000, 3000, 4000], index=[\"A\", \"B\", \"C\", \"D\"])\n",
    "gender = pd.Series([\"Male\", \"Female\", \"Male\", \"Male\"], index=[\"A\", \"B\", \"C\", \"D\"])\n",
    "data = {\"Age\": age, \"Gender\": gender, \"Salary\": salary}\n",
    "df = pd.DataFrame(data)\n",
    "print(df)\n",
    "\n",
    "print(\"=\" * 35)\n",
    "\n",
    "index = pd.Series([1, 2, 3, 4], index=[\"A\", \"B\", \"C\", \"D\"])\n",
    "df[\"Index\"] = index\n",
    "print(df)"
   ]
  },
  {
   "cell_type": "markdown",
   "metadata": {},
   "source": [
    "#### 2.2.2.2 通过 `insert()` 方法添加\n",
    "\n",
    "`df.insert(loc, column, value, allow_duplicates = False)`\n",
    "\n",
    "- loc：整型，插人索引，必须验证 0<=loc<=len(列)\n",
    "- column： 插入列的标签，类型可以是（字符串/数字/散列对象）\n",
    "- value：数值，Series 或者数组\n",
    "- allow duplicates：允许重复，可以有相同的列标签数据，默认为 False\n"
   ]
  },
  {
   "cell_type": "code",
   "execution_count": 22,
   "metadata": {},
   "outputs": [
    {
     "name": "stdout",
     "output_type": "stream",
     "text": [
      "    Age  Gender  Salary\n",
      "A  10.0    Male    1000\n",
      "B  20.0  Female    2000\n",
      "C  30.0    Male    3000\n",
      "D   NaN    Male    4000\n",
      "===================================\n",
      "    Age  Gender  Scores  Salary\n",
      "A  10.0    Male     100    1000\n",
      "B  20.0  Female      99    2000\n",
      "C  30.0    Male      98    3000\n",
      "D   NaN    Male      97    4000\n"
     ]
    }
   ],
   "source": [
    "age = pd.Series([10, 20, 30], index=[\"A\", \"B\", \"C\"], dtype=np.int64)\n",
    "salary = pd.Series([1000, 2000, 3000, 4000], index=[\"A\", \"B\", \"C\", \"D\"])\n",
    "gender = pd.Series([\"Male\", \"Female\", \"Male\", \"Male\"], index=[\"A\", \"B\", \"C\", \"D\"])\n",
    "data = {\"Age\": age, \"Gender\": gender, \"Salary\": salary}\n",
    "df = pd.DataFrame(data)\n",
    "print(df)\n",
    "\n",
    "print(\"=\" * 35)\n",
    "\n",
    "scores = pd.Series([100, 99, 98, 97], index=[\"A\", \"B\", \"C\", \"D\"])\n",
    "df.insert(2, column=\"Scores\", value=scores, allow_duplicates=False)\n",
    "print(df)"
   ]
  },
  {
   "cell_type": "markdown",
   "metadata": {},
   "source": [
    "### 2.2.3 删除数据列\n"
   ]
  },
  {
   "cell_type": "markdown",
   "metadata": {},
   "source": [
    "#### 2.2.3.1 通过 `del` 方法删除\n"
   ]
  },
  {
   "cell_type": "code",
   "execution_count": 23,
   "metadata": {},
   "outputs": [
    {
     "name": "stdout",
     "output_type": "stream",
     "text": [
      "    Age  Gender  Salary\n",
      "A  10.0    Male    1000\n",
      "B  20.0  Female    2000\n",
      "C  30.0    Male    3000\n",
      "D   NaN    Male    4000\n",
      "===================================\n",
      "    Age  Gender\n",
      "A  10.0    Male\n",
      "B  20.0  Female\n",
      "C  30.0    Male\n",
      "D   NaN    Male\n"
     ]
    }
   ],
   "source": [
    "age = pd.Series([10, 20, 30], index=[\"A\", \"B\", \"C\"], dtype=np.int64)\n",
    "salary = pd.Series([1000, 2000, 3000, 4000], index=[\"A\", \"B\", \"C\", \"D\"])\n",
    "gender = pd.Series([\"Male\", \"Female\", \"Male\", \"Male\"], index=[\"A\", \"B\", \"C\", \"D\"])\n",
    "data = {\"Age\": age, \"Gender\": gender, \"Salary\": salary}\n",
    "df = pd.DataFrame(data)\n",
    "print(df)\n",
    "\n",
    "print(\"=\" * 35)\n",
    "\n",
    "del df[\"Salary\"]\n",
    "print(df)"
   ]
  },
  {
   "cell_type": "markdown",
   "metadata": {},
   "source": [
    "#### 2.2.3.2 通过 `pop()` 方法删除\n",
    "\n",
    "这种方法会有一个返回值，需要一个变量接收\n"
   ]
  },
  {
   "cell_type": "code",
   "execution_count": 24,
   "metadata": {},
   "outputs": [
    {
     "name": "stdout",
     "output_type": "stream",
     "text": [
      "    Age  Gender  Salary\n",
      "A  10.0    Male    1000\n",
      "B  20.0  Female    2000\n",
      "C  30.0    Male    3000\n",
      "D   NaN    Male    4000\n",
      "===================================\n",
      "    Age  Gender\n",
      "A  10.0    Male\n",
      "B  20.0  Female\n",
      "C  30.0    Male\n",
      "D   NaN    Male\n",
      "===================================\n",
      "A    1000\n",
      "B    2000\n",
      "C    3000\n",
      "D    4000\n",
      "Name: Salary, dtype: int64\n"
     ]
    }
   ],
   "source": [
    "age = pd.Series([10, 20, 30], index=[\"A\", \"B\", \"C\"], dtype=np.int64)\n",
    "salary = pd.Series([1000, 2000, 3000, 4000], index=[\"A\", \"B\", \"C\", \"D\"])\n",
    "gender = pd.Series([\"Male\", \"Female\", \"Male\", \"Male\"], index=[\"A\", \"B\", \"C\", \"D\"])\n",
    "data = {\"Age\": age, \"Gender\": gender, \"Salary\": salary}\n",
    "df = pd.DataFrame(data)\n",
    "print(df)\n",
    "\n",
    "print(\"=\" * 35)\n",
    "\n",
    "returned_salary = df.pop(\"Salary\")\n",
    "\n",
    "print(df)\n",
    "print(\"=\" * 35)\n",
    "print(returned_salary)"
   ]
  },
  {
   "cell_type": "markdown",
   "metadata": {},
   "source": [
    "## 2.3 行操作\n"
   ]
  },
  {
   "cell_type": "markdown",
   "metadata": {},
   "source": [
    "### 2.3.1 选取数据行\n"
   ]
  },
  {
   "cell_type": "markdown",
   "metadata": {},
   "source": [
    "#### 2.3.1.1 使用 `df.loc[行标签，列标签]` 方法选取\n"
   ]
  },
  {
   "cell_type": "code",
   "execution_count": 25,
   "metadata": {},
   "outputs": [
    {
     "name": "stdout",
     "output_type": "stream",
     "text": [
      "    Age  Gender  Salary\n",
      "A  10.0    Male    1000\n",
      "B  20.0  Female    2000\n",
      "C  30.0    Male    3000\n",
      "D   NaN    Male    4000\n",
      "===================================\n",
      "Age       10.0\n",
      "Gender    Male\n",
      "Salary    1000\n",
      "Name: A, dtype: object\n",
      "===================================\n",
      "    Age  Salary\n",
      "A  10.0    1000\n",
      "B  20.0    2000\n"
     ]
    }
   ],
   "source": [
    "age = pd.Series([10, 20, 30], index=[\"A\", \"B\", \"C\"], dtype=np.int64)\n",
    "salary = pd.Series([1000, 2000, 3000, 4000], index=[\"A\", \"B\", \"C\", \"D\"])\n",
    "gender = pd.Series([\"Male\", \"Female\", \"Male\", \"Male\"], index=[\"A\", \"B\", \"C\", \"D\"])\n",
    "data = {\"Age\": age, \"Gender\": gender, \"Salary\": salary}\n",
    "df = pd.DataFrame(data)\n",
    "print(df)\n",
    "\n",
    "print(\"=\" * 35)\n",
    "\n",
    "print(df.loc[\"A\"])\n",
    "print(\"=\" * 35)\n",
    "\n",
    "print(df.loc[[\"A\", \"B\"], [\"Age\", \"Salary\"]])"
   ]
  },
  {
   "cell_type": "markdown",
   "metadata": {},
   "source": [
    "### 2.3.1.2 使用 `df.iloc[行索引，列索引]` 方法选取\n",
    "\n",
    "这里的参数全部都是整型的位置索引\n"
   ]
  },
  {
   "cell_type": "code",
   "execution_count": 26,
   "metadata": {},
   "outputs": [
    {
     "name": "stdout",
     "output_type": "stream",
     "text": [
      "    Age  Gender  Salary\n",
      "A  10.0    Male    1000\n",
      "B  20.0  Female    2000\n",
      "C  30.0    Male    3000\n",
      "D   NaN    Male    4000\n",
      "===================================\n",
      "    Age  Gender\n",
      "A  10.0    Male\n",
      "B  20.0  Female\n",
      "===================================\n",
      "  Gender  Salary\n",
      "A   Male    1000\n",
      "C   Male    3000\n"
     ]
    }
   ],
   "source": [
    "age = pd.Series([10, 20, 30], index=[\"A\", \"B\", \"C\"], dtype=np.int64)\n",
    "salary = pd.Series([1000, 2000, 3000, 4000], index=[\"A\", \"B\", \"C\", \"D\"])\n",
    "gender = pd.Series([\"Male\", \"Female\", \"Male\", \"Male\"], index=[\"A\", \"B\", \"C\", \"D\"])\n",
    "data = {\"Age\": age, \"Gender\": gender, \"Salary\": salary}\n",
    "df = pd.DataFrame(data)\n",
    "print(df)\n",
    "\n",
    "print(\"=\" * 35)\n",
    "\n",
    "print(df.iloc[0:2, 0:2])\n",
    "\n",
    "print(\"=\" * 35)\n",
    "\n",
    "\n",
    "# 取第一行，第三行，第二列，第三列\n",
    "print(df.iloc[[0, 2], [1, 2]])"
   ]
  },
  {
   "cell_type": "markdown",
   "metadata": {},
   "source": [
    "### 2.3.2 增加数据行\n"
   ]
  },
  {
   "cell_type": "markdown",
   "metadata": {},
   "source": [
    "使用 `pd.concat()` 方法增加数据行\n",
    "\n",
    "`pd.concat(objs, axis = 0, join = 'outer', ignore_index = False, keys = None, levels = None, names = None, verify_integrity = False, sort = False, copy = True)`\n",
    "\n",
    "- objs：Series、DataFrame 或者是 Series、DataFrame 组成的列表\n",
    "- axis：指定轴，0 为行，1 为列\n",
    "- join：指定合并方式，inner 为内连接，outer 为外连接\n",
    "- ignore_index：是否忽略原始索引，默认为 False\n",
    "- keys：为合并后的数据添加一个标签，用于区分数据来源\n",
    "- levels：指定多层索引的级别\n",
    "- names：指定多层索引的名称\n",
    "- verify_integrity：检查合并后的数据是否有重复索引，如果有则抛出异常，默认为 False\n",
    "- sort：对合并后的数据按照索引进行排序，默认为 False\n",
    "- copy：是否复制数据，默认为 True\n"
   ]
  },
  {
   "cell_type": "code",
   "execution_count": 27,
   "metadata": {},
   "outputs": [
    {
     "name": "stdout",
     "output_type": "stream",
     "text": [
      "    Age  Gender  Salary\n",
      "A  10.0    Male    1000\n",
      "B  20.0  Female    2000\n",
      "C  30.0    Male    3000\n",
      "D   NaN    Male    4000\n",
      "===================================\n",
      "    Age  Gender Salary\n",
      "A  10.0    Male   1000\n",
      "B  20.0  Female   2000\n",
      "C  30.0    Male   3000\n",
      "D   NaN    Male   4000\n",
      "E  10.0  Female   5000\n"
     ]
    }
   ],
   "source": [
    "from os import name\n",
    "import pandas as pd\n",
    "import numpy as np\n",
    "\n",
    "age = pd.Series([10, 20, 30], index=[\"A\", \"B\", \"C\"], dtype=np.int64)\n",
    "salary = pd.Series([1000, 2000, 3000, 4000], index=[\"A\", \"B\", \"C\", \"D\"])\n",
    "gender = pd.Series([\"Male\", \"Female\", \"Male\", \"Male\"], index=[\"A\", \"B\", \"C\", \"D\"])\n",
    "data = {\"Age\": age, \"Gender\": gender, \"Salary\": salary}\n",
    "df = pd.DataFrame(data)\n",
    "print(df)\n",
    "\n",
    "print(\"=\" * 35)\n",
    "\n",
    "s_E = pd.Series({\"Age\": 10.0, \"Gender\": \"Female\", \"Salary\": 5000}, name=\"E\")\n",
    "\n",
    "# 在 df 中加入这一行，使用 pd.concat() 方法\n",
    "df = pd.concat([df, s_E.to_frame().T])\n",
    "print(df)\n"
   ]
  }
 ],
 "metadata": {
  "kernelspec": {
   "display_name": "MachineLearning",
   "language": "python",
   "name": "python3"
  },
  "language_info": {
   "codemirror_mode": {
    "name": "ipython",
    "version": 3
   },
   "file_extension": ".py",
   "mimetype": "text/x-python",
   "name": "python",
   "nbconvert_exporter": "python",
   "pygments_lexer": "ipython3",
   "version": "3.10.13"
  },
  "orig_nbformat": 4
 },
 "nbformat": 4,
 "nbformat_minor": 2
}
