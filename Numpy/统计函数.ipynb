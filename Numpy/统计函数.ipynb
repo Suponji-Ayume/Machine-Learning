{
 "cells": [
  {
   "cell_type": "code",
   "execution_count": 1,
   "metadata": {},
   "outputs": [],
   "source": [
    "import numpy as np"
   ]
  },
  {
   "cell_type": "markdown",
   "metadata": {},
   "source": [
    "# 1 求平均值\n",
    "\n",
    "`np.mean(ndarray,axis = ...)`\n",
    "\n",
    "`ndarray.mean(axis = ...)`\n",
    "\n",
    "axis = 0: 纵向计算平均值\n",
    "\n",
    "axis = 1: 横向计算平均值\n"
   ]
  },
  {
   "cell_type": "code",
   "execution_count": 2,
   "metadata": {},
   "outputs": [
    {
     "data": {
      "text/plain": [
       "array([[ 0,  1,  2,  3,  4],\n",
       "       [ 5,  6,  7,  8,  9],\n",
       "       [10, 11, 12, 13, 14],\n",
       "       [15, 16, 17, 18, 19]])"
      ]
     },
     "execution_count": 2,
     "metadata": {},
     "output_type": "execute_result"
    }
   ],
   "source": [
    "a = np.arange(20).reshape(4, 5)\n",
    "a"
   ]
  },
  {
   "cell_type": "code",
   "execution_count": 3,
   "metadata": {},
   "outputs": [
    {
     "name": "stdout",
     "output_type": "stream",
     "text": [
      "[ 7.5  8.5  9.5 10.5 11.5]\n",
      "[ 2.  7. 12. 17.]\n",
      "9.5\n"
     ]
    }
   ],
   "source": [
    "print(a.mean(axis=0))\n",
    "print(a.mean(axis=1))\n",
    "print(np.mean(a))"
   ]
  },
  {
   "cell_type": "markdown",
   "metadata": {},
   "source": [
    "# 2 求中位数\n",
    "\n",
    "`np.median()`\n"
   ]
  },
  {
   "cell_type": "code",
   "execution_count": 4,
   "metadata": {},
   "outputs": [
    {
     "name": "stdout",
     "output_type": "stream",
     "text": [
      "[ 7.5  8.5  9.5 10.5 11.5]\n",
      "[ 2.  7. 12. 17.]\n",
      "9.5\n"
     ]
    }
   ],
   "source": [
    "a = np.arange(20).reshape(4, 5)\n",
    "\n",
    "print(np.median(a, axis=0))\n",
    "print(np.median(a, axis=1))\n",
    "print(np.median(a))"
   ]
  },
  {
   "cell_type": "markdown",
   "metadata": {},
   "source": [
    "# 3 求标准差\n",
    "\n",
    "`np.std(ndarray,axis = ...) / ndarray.std(axis = ...)`\n"
   ]
  },
  {
   "cell_type": "code",
   "execution_count": 5,
   "metadata": {},
   "outputs": [
    {
     "name": "stdout",
     "output_type": "stream",
     "text": [
      "[5.59016994 5.59016994 5.59016994 5.59016994 5.59016994]\n",
      "[1.41421356 1.41421356 1.41421356 1.41421356]\n",
      "5.766281297335398\n"
     ]
    }
   ],
   "source": [
    "a = np.arange(20).reshape(4, 5)\n",
    "\n",
    "# 逐列求\n",
    "print(np.std(a, axis=0))\n",
    "\n",
    "# 逐行求\n",
    "print(a.std(axis=1))\n",
    "\n",
    "# 对整个二维数组求\n",
    "print(a.std())"
   ]
  },
  {
   "cell_type": "markdown",
   "metadata": {},
   "source": [
    "# 4 方差\n",
    "\n",
    "`np.var(ndarray,axis = ...) / ndarray.var(axis = ...)`\n"
   ]
  },
  {
   "cell_type": "code",
   "execution_count": 6,
   "metadata": {},
   "outputs": [
    {
     "name": "stdout",
     "output_type": "stream",
     "text": [
      "[31.25 31.25 31.25 31.25 31.25]\n",
      "[2. 2. 2. 2.]\n",
      "33.25\n"
     ]
    }
   ],
   "source": [
    "a = np.arange(20).reshape(4, 5)\n",
    "\n",
    "# 逐列求\n",
    "print(np.var(a, axis=0))\n",
    "\n",
    "# 逐行求\n",
    "print(a.var(axis=1))\n",
    "\n",
    "# 对整个二维数组求\n",
    "print(a.var())"
   ]
  },
  {
   "cell_type": "markdown",
   "metadata": {},
   "source": [
    "# 5 求最大值/最小值\n",
    "\n",
    "`np.max(ndarray,axis = ...) / ndarray.max(axis = ...)`\n"
   ]
  },
  {
   "cell_type": "markdown",
   "metadata": {},
   "source": [
    "# 6 求和\n",
    "\n",
    "`ndarray.sum(axis = ...) / np.sum(ndarray, axis = ...)`\n"
   ]
  },
  {
   "cell_type": "markdown",
   "metadata": {},
   "source": [
    "# 7 加权平均值\n",
    "\n",
    "`np.average(ndarray, axis = ..., weights = ..., returned = False)`\n",
    "\n",
    "returned = True 则会返回权重加和的值\n"
   ]
  },
  {
   "cell_type": "code",
   "execution_count": 7,
   "metadata": {},
   "outputs": [
    {
     "data": {
      "text/plain": [
       "array([ 2.66666667,  7.66666667, 12.66666667, 17.66666667])"
      ]
     },
     "execution_count": 7,
     "metadata": {},
     "output_type": "execute_result"
    }
   ],
   "source": [
    "a = np.arange(20).reshape(4, 5)\n",
    "w = [1, 2, 3, 4, 5]\n",
    "np.average(a, axis=1, weights=w)"
   ]
  }
 ],
 "metadata": {
  "kernelspec": {
   "display_name": "MachineLearning",
   "language": "python",
   "name": "python3"
  },
  "language_info": {
   "codemirror_mode": {
    "name": "ipython",
    "version": 3
   },
   "file_extension": ".py",
   "mimetype": "text/x-python",
   "name": "python",
   "nbconvert_exporter": "python",
   "pygments_lexer": "ipython3",
   "version": "3.10.13"
  },
  "orig_nbformat": 4
 },
 "nbformat": 4,
 "nbformat_minor": 2
}
